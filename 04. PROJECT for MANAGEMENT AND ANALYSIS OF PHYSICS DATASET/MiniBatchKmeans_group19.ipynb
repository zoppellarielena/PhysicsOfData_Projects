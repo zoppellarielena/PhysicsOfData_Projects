{
 "cells": [
  {
   "cell_type": "markdown",
   "metadata": {
    "cell_id": "76b43c6b16364077bafbd51b212da9ce",
    "deepnote_cell_type": "markdown"
   },
   "source": [
    "# Mini-Batch K-means on RCV1 dataset using Dask"
   ]
  },
  {
   "cell_type": "markdown",
   "metadata": {
    "cell_id": "2463ae64e53a451b98dfc02c80d9af9d",
    "deepnote_cell_type": "markdown"
   },
   "source": [
    "**Group 19:**\n",
    "* Golan Rodrigo         1242802\n",
    "* Guercio Tommaso   2089215\n",
    "* Zoppellari Elena       2076715\n",
    " \n",
    "Project for the Physics of Data course *Management and Analysis of Physics Dataset mod.B*, academic year 2023-2024."
   ]
  },
  {
   "cell_type": "markdown",
   "metadata": {
    "cell_id": "b300e7a933a44f229bd9faa772c3b0a4",
    "deepnote_cell_type": "markdown"
   },
   "source": [
    "## Goal"
   ]
  },
  {
   "cell_type": "markdown",
   "metadata": {
    "cell_id": "74a4a3cb96c84ab9b0fd28b4438ab490",
    "deepnote_cell_type": "markdown"
   },
   "source": [
    "The objective of this project is to test and validate the performance of mini-batch K-means across a distributed system utilizing Dask. We aim to identify the optimal configuration within Dask's parallelization framework best suited for the available resources, assessing its performance based on metrics such as execution time and memory usage over clustering accuracy."
   ]
  },
  {
   "cell_type": "markdown",
   "metadata": {
    "cell_id": "025a8da833774ade8c78944682f039fc",
    "deepnote_cell_type": "markdown"
   },
   "source": [
    "## Notebook organization\n",
    "This notebook is organized as it follows:\n",
    "1. **Introduction**:<br>\n",
    "    1.1. Start cluster<br>\n",
    "    1.2. Dataset<br>\n",
    "    1.3. Dask Array<br>\n",
    "    1.4. Preprocessing<br>\n",
    "    1.5  Filtering the dataset <br>\n",
    "    1.6  Load filtered data<br>\n",
    "    1.7  Dataset exploration<br>\n",
    "    1.8  Sihouette analysis<br>\n",
    "    1.9  Metrics<br>\n",
    "2. **Mini Batch Clustering**<br>\n",
    "    2.1. Architecture and Motivations<br>\n",
    "    2.2. Toy Example<br>\n",
    "3. **Results**<br>\n",
    "    3.1. Mini-Batch size graphs<br>\n",
    "    3.2. Mini-Batch and predict rechunk graphs<br>\n",
    "    3.3. Number of workers graphs<br>\n",
    "    3.4. Is the Euclidean Distance the best objective function for RCV1 dataset?<br>"
   ]
  },
  {
   "cell_type": "markdown",
   "metadata": {
    "cell_id": "1ff96b0aac334012a30364a9cc1ac9c3",
    "deepnote_cell_type": "markdown"
   },
   "source": [
    "## Introduction"
   ]
  },
  {
   "cell_type": "markdown",
   "metadata": {
    "cell_id": "d47ad8c8dbac444cbd832e0740f97eab",
    "deepnote_cell_type": "markdown"
   },
   "source": [
    "### Start cluster"
   ]
  },
  {
   "cell_type": "markdown",
   "metadata": {
    "cell_id": "d7b2b969d4274aa090ad5db75ea634ba",
    "deepnote_cell_type": "markdown"
   },
   "source": [
    "To enable parallel processing among the virtual machines, we deploy a Dask cluster using SSH.\n",
    "\n",
    "The SSHCluster function deploys a Dask Scheduler and Workers on a set of machine addresses. As a default configuration, we assign a single worker to each machine, designating one of them as the scheduler. Additionally, we have the flexibility to modify the number of workers, adjust the worker allocation per virtual machine, and fine-tune the number of threads as needed."
   ]
  },
  {
   "cell_type": "code",
   "execution_count": 1,
   "metadata": {
    "cell_id": "270099bb99004ef793bc57d938076281",
    "deepnote_cell_type": "code"
   },
   "outputs": [],
   "source": [
    "from dask.distributed import SSHCluster\n",
    "from dask.distributed import Client\n",
    "import paramiko\n",
    "import psutil\n",
    "import logging\n",
    "import warnings\n",
    "import dask\n",
    "from dask.distributed import performance_report\n",
    "from sklearn.metrics.cluster import adjusted_rand_score\n",
    "import matplotlib.pyplot as plt\n",
    "from dask import delayed\n",
    "from dask import compute\n",
    "import dask.array as da\n",
    "import numpy as np\n",
    "from numpy.random import uniform\n",
    "import random\n",
    "import time\n",
    "from timeit import default_timer as timer\n",
    "import simplex_projection as proj\n",
    "import matplotlib.pyplot as plt\n",
    "\n",
    "# Filter out Dask UserWarnings\n",
    "warnings.filterwarnings(\"ignore\", category=UserWarning)"
   ]
  },
  {
   "cell_type": "code",
   "execution_count": 2,
   "metadata": {
    "cell_id": "cfe787b7604a450caffba4893d8a4c95",
    "deepnote_cell_type": "code"
   },
   "outputs": [],
   "source": [
    "# Function to find and kill processes listening on a specific port\n",
    "def kill_processes_on_port(port):\n",
    "    for proc in psutil.process_iter(attrs=['pid', 'name']):\n",
    "        try:\n",
    "            connections = proc.connections()\n",
    "            for conn in connections:\n",
    "                if conn.status == psutil.CONN_LISTEN and conn.laddr.port == port:\n",
    "                    print(f\"Killing process {proc.info['pid']} listening on port {port}\")\n",
    "                    psutil.Process(proc.info['pid']).terminate()\n",
    "        except (psutil.NoSuchProcess, psutil.AccessDenied, psutil.ZombieProcess):\n",
    "            pass"
   ]
  },
  {
   "cell_type": "code",
   "execution_count": 3,
   "metadata": {
    "cell_id": "c87c78b6d9264e7990f0353545e2198f",
    "deepnote_cell_type": "code"
   },
   "outputs": [],
   "source": [
    "def create_cluster(nworkers = 3, nthreads = 4, work_per_VM = 1):\n",
    "    '''\n",
    "    Create a Dask SSHCluster with specified configuration.\n",
    "\n",
    "    This function creates a Dask SSHCluster with the given number of workers, threads per worker,\n",
    "    and workers per VM, and returns the cluster instance.\n",
    "\n",
    "    Parameters:\n",
    "    nworkers (int, optional): The total number of workers in the cluster, including the scheduler worker.\n",
    "        Default is 3.\n",
    "    nthreads (int, optional): The number of threads per worker. The maximum allowed is 4.\n",
    "        Default is 4.\n",
    "    work_per_VM (int, optional): The number of workers per VM. Each VM will have the same number of workers.\n",
    "        Default is 1.\n",
    "\n",
    "    Returns:\n",
    "    SSHCluster: A Dask SSHCluster instance configured with the specified options.\n",
    "    '''\n",
    "\n",
    "    # Kill any previous processes on port 8787\n",
    "    kill_processes_on_port(7787)\n",
    "\n",
    "    hosts = [\"10.67.22.221\", \"10.67.22.221\", \"10.67.22.193\", \"10.67.22.244\"]  # scheduler, workers \n",
    "\n",
    "    connect_options = [{\"known_hosts\": None, \"username\": \"*****\", \"password\": \"*******\"}] * (nworkers + 1)\n",
    "\n",
    "    dask.config.set({\"distributed.comm.retry.count\": 10})\n",
    "    dask.config.set({\"distributed.comm.timeouts.connect\": 600})\n",
    "\n",
    "    cl = SSHCluster(\n",
    "        hosts = hosts[:nworkers + 1],\n",
    "        connect_options = connect_options[:nworkers + 1],\n",
    "        worker_options={\n",
    "            \"nthreads\": nthreads,\n",
    "            # \"memory_limit\": \"8GB\",\n",
    "            \"n_workers\": work_per_VM\n",
    "        },\n",
    "        scheduler_options={\"port\": 0, \"dashboard_address\": \":7787\"}\n",
    "    )\n",
    "\n",
    "\n",
    "    return cl"
   ]
  },
  {
   "cell_type": "code",
   "execution_count": 4,
   "metadata": {
    "cell_id": "f296eb35d7b744abad928b69aec5ac58",
    "deepnote_cell_type": "code"
   },
   "outputs": [
    {
     "name": "stderr",
     "output_type": "stream",
     "text": [
      "2023-09-18 20:47:13,486 - distributed.deploy.ssh - INFO - 2023-09-18 20:47:13,485 - distributed.scheduler - INFO - State start\n",
      "2023-09-18 20:47:13,488 - distributed.deploy.ssh - INFO - 2023-09-18 20:47:13,486 - distributed.diskutils - INFO - Found stale lock file and directory '/tmp/dask-scratch-space/worker-6wmm2nym', purging\n",
      "2023-09-18 20:47:13,489 - distributed.deploy.ssh - INFO - 2023-09-18 20:47:13,488 - distributed.scheduler - INFO -   Scheduler at:  tcp://10.67.22.221:41131\n",
      "2023-09-18 20:47:14,042 - distributed.deploy.ssh - INFO - 2023-09-18 20:47:14,042 - distributed.nanny - INFO -         Start Nanny at: 'tcp://10.67.22.221:39571'\n",
      "2023-09-18 20:47:14,284 - distributed.deploy.ssh - INFO - 2023-09-18 20:47:14,282 - distributed.nanny - INFO -         Start Nanny at: 'tcp://10.67.22.244:40587'\n",
      "2023-09-18 20:47:14,482 - distributed.deploy.ssh - INFO - 2023-09-18 20:47:14,481 - distributed.worker - INFO -       Start worker at:   tcp://10.67.22.221:39617\n",
      "2023-09-18 20:47:14,622 - distributed.deploy.ssh - INFO - 2023-09-18 20:47:14,621 - distributed.nanny - INFO -         Start Nanny at: 'tcp://10.67.22.193:43639'\n",
      "2023-09-18 20:47:14,711 - distributed.deploy.ssh - INFO - 2023-09-18 20:47:14,710 - distributed.worker - INFO -       Start worker at:   tcp://10.67.22.244:38713\n",
      "2023-09-18 20:47:15,105 - distributed.deploy.ssh - INFO - 2023-09-18 20:47:15,104 - distributed.diskutils - INFO - Found stale lock file and directory '/tmp/dask-scratch-space/worker-be230ba0', purging\n",
      "2023-09-18 20:47:15,142 - distributed.deploy.ssh - INFO - 2023-09-18 20:47:15,141 - distributed.worker - INFO -       Start worker at:   tcp://10.67.22.193:33747\n"
     ]
    }
   ],
   "source": [
    "# Create cluster\n",
    "cluster = create_cluster()\n",
    "\n",
    "# Start client\n",
    "client = Client(cluster)"
   ]
  },
  {
   "cell_type": "markdown",
   "metadata": {
    "cell_id": "3901b2ce63e34adb945857748c5db480",
    "deepnote_cell_type": "markdown"
   },
   "source": [
    "Visualize cluster info"
   ]
  },
  {
   "cell_type": "code",
   "execution_count": 5,
   "metadata": {
    "cell_id": "2eb338e6e4044989b9b2f850dd9d0b0f",
    "deepnote_cell_type": "code"
   },
   "outputs": [
    {
     "data": {
      "application/vnd.jupyter.widget-view+json": {
       "model_id": "550f73cc2b884ef2862119b0e3cc3759",
       "version_major": 2,
       "version_minor": 0
      },
      "text/html": [
       "<div class=\"jp-RenderedHTMLCommon jp-RenderedHTML jp-mod-trusted jp-OutputArea-output\">\n",
       "    <div style=\"width: 24px; height: 24px; background-color: #e1e1e1; border: 3px solid #9D9D9D; border-radius: 5px; position: absolute;\">\n",
       "    </div>\n",
       "    <div style=\"margin-left: 48px;\">\n",
       "        <h3 style=\"margin-bottom: 0px; margin-top: 0px;\">SpecCluster</h3>\n",
       "        <p style=\"color: #9D9D9D; margin-bottom: 0px;\">SSHCluster</p>\n",
       "        <table style=\"width: 100%; text-align: left;\">\n",
       "            <tr>\n",
       "                <td style=\"text-align: left;\">\n",
       "                    <strong>Dashboard:</strong> <a href=\"http://10.67.22.221:7787/status\" target=\"_blank\">http://10.67.22.221:7787/status</a>\n",
       "                </td>\n",
       "                <td style=\"text-align: left;\">\n",
       "                    <strong>Workers:</strong> 3\n",
       "                </td>\n",
       "            </tr>\n",
       "            <tr>\n",
       "                <td style=\"text-align: left;\">\n",
       "                    <strong>Total threads:</strong> 12\n",
       "                </td>\n",
       "                <td style=\"text-align: left;\">\n",
       "                    <strong>Total memory:</strong> 23.25 GiB\n",
       "                </td>\n",
       "            </tr>\n",
       "            \n",
       "        </table>\n",
       "\n",
       "        <details>\n",
       "            <summary style=\"margin-bottom: 20px;\">\n",
       "                <h3 style=\"display: inline;\">Scheduler Info</h3>\n",
       "            </summary>\n",
       "\n",
       "            <div style=\"\">\n",
       "    <div>\n",
       "        <div style=\"width: 24px; height: 24px; background-color: #FFF7E5; border: 3px solid #FF6132; border-radius: 5px; position: absolute;\"> </div>\n",
       "        <div style=\"margin-left: 48px;\">\n",
       "            <h3 style=\"margin-bottom: 0px;\">Scheduler</h3>\n",
       "            <p style=\"color: #9D9D9D; margin-bottom: 0px;\">Scheduler-b220b9c8-41c9-4cd6-802e-1f7539097018</p>\n",
       "            <table style=\"width: 100%; text-align: left;\">\n",
       "                <tr>\n",
       "                    <td style=\"text-align: left;\">\n",
       "                        <strong>Comm:</strong> tcp://10.67.22.221:41131\n",
       "                    </td>\n",
       "                    <td style=\"text-align: left;\">\n",
       "                        <strong>Workers:</strong> 3\n",
       "                    </td>\n",
       "                </tr>\n",
       "                <tr>\n",
       "                    <td style=\"text-align: left;\">\n",
       "                        <strong>Dashboard:</strong> <a href=\"http://10.67.22.221:7787/status\" target=\"_blank\">http://10.67.22.221:7787/status</a>\n",
       "                    </td>\n",
       "                    <td style=\"text-align: left;\">\n",
       "                        <strong>Total threads:</strong> 12\n",
       "                    </td>\n",
       "                </tr>\n",
       "                <tr>\n",
       "                    <td style=\"text-align: left;\">\n",
       "                        <strong>Started:</strong> Just now\n",
       "                    </td>\n",
       "                    <td style=\"text-align: left;\">\n",
       "                        <strong>Total memory:</strong> 23.25 GiB\n",
       "                    </td>\n",
       "                </tr>\n",
       "            </table>\n",
       "        </div>\n",
       "    </div>\n",
       "\n",
       "    <details style=\"margin-left: 48px;\">\n",
       "        <summary style=\"margin-bottom: 20px;\">\n",
       "            <h3 style=\"display: inline;\">Workers</h3>\n",
       "        </summary>\n",
       "\n",
       "        \n",
       "        <div style=\"margin-bottom: 20px;\">\n",
       "            <div style=\"width: 24px; height: 24px; background-color: #DBF5FF; border: 3px solid #4CC9FF; border-radius: 5px; position: absolute;\"> </div>\n",
       "            <div style=\"margin-left: 48px;\">\n",
       "            <details>\n",
       "                <summary>\n",
       "                    <h4 style=\"margin-bottom: 0px; display: inline;\">Worker: tcp://10.67.22.193:33747</h4>\n",
       "                </summary>\n",
       "                <table style=\"width: 100%; text-align: left;\">\n",
       "                    <tr>\n",
       "                        <td style=\"text-align: left;\">\n",
       "                            <strong>Comm: </strong> tcp://10.67.22.193:33747\n",
       "                        </td>\n",
       "                        <td style=\"text-align: left;\">\n",
       "                            <strong>Total threads: </strong> 4\n",
       "                        </td>\n",
       "                    </tr>\n",
       "                    <tr>\n",
       "                        <td style=\"text-align: left;\">\n",
       "                            <strong>Dashboard: </strong> <a href=\"http://10.67.22.193:38683/status\" target=\"_blank\">http://10.67.22.193:38683/status</a>\n",
       "                        </td>\n",
       "                        <td style=\"text-align: left;\">\n",
       "                            <strong>Memory: </strong> 7.75 GiB\n",
       "                        </td>\n",
       "                    </tr>\n",
       "                    <tr>\n",
       "                        <td style=\"text-align: left;\">\n",
       "                            <strong>Nanny: </strong> tcp://10.67.22.193:43639\n",
       "                        </td>\n",
       "                        <td style=\"text-align: left;\"></td>\n",
       "                    </tr>\n",
       "                    <tr>\n",
       "                        <td colspan=\"2\" style=\"text-align: left;\">\n",
       "                            <strong>Local directory: </strong> /tmp/dask-scratch-space/worker-hs9soyhr\n",
       "                        </td>\n",
       "                    </tr>\n",
       "\n",
       "                    \n",
       "\n",
       "                    \n",
       "\n",
       "                </table>\n",
       "            </details>\n",
       "            </div>\n",
       "        </div>\n",
       "        \n",
       "        <div style=\"margin-bottom: 20px;\">\n",
       "            <div style=\"width: 24px; height: 24px; background-color: #DBF5FF; border: 3px solid #4CC9FF; border-radius: 5px; position: absolute;\"> </div>\n",
       "            <div style=\"margin-left: 48px;\">\n",
       "            <details>\n",
       "                <summary>\n",
       "                    <h4 style=\"margin-bottom: 0px; display: inline;\">Worker: tcp://10.67.22.221:39617</h4>\n",
       "                </summary>\n",
       "                <table style=\"width: 100%; text-align: left;\">\n",
       "                    <tr>\n",
       "                        <td style=\"text-align: left;\">\n",
       "                            <strong>Comm: </strong> tcp://10.67.22.221:39617\n",
       "                        </td>\n",
       "                        <td style=\"text-align: left;\">\n",
       "                            <strong>Total threads: </strong> 4\n",
       "                        </td>\n",
       "                    </tr>\n",
       "                    <tr>\n",
       "                        <td style=\"text-align: left;\">\n",
       "                            <strong>Dashboard: </strong> <a href=\"http://10.67.22.221:45625/status\" target=\"_blank\">http://10.67.22.221:45625/status</a>\n",
       "                        </td>\n",
       "                        <td style=\"text-align: left;\">\n",
       "                            <strong>Memory: </strong> 7.75 GiB\n",
       "                        </td>\n",
       "                    </tr>\n",
       "                    <tr>\n",
       "                        <td style=\"text-align: left;\">\n",
       "                            <strong>Nanny: </strong> tcp://10.67.22.221:39571\n",
       "                        </td>\n",
       "                        <td style=\"text-align: left;\"></td>\n",
       "                    </tr>\n",
       "                    <tr>\n",
       "                        <td colspan=\"2\" style=\"text-align: left;\">\n",
       "                            <strong>Local directory: </strong> /tmp/dask-scratch-space/worker-yat40lh2\n",
       "                        </td>\n",
       "                    </tr>\n",
       "\n",
       "                    \n",
       "\n",
       "                    \n",
       "\n",
       "                </table>\n",
       "            </details>\n",
       "            </div>\n",
       "        </div>\n",
       "        \n",
       "        <div style=\"margin-bottom: 20px;\">\n",
       "            <div style=\"width: 24px; height: 24px; background-color: #DBF5FF; border: 3px solid #4CC9FF; border-radius: 5px; position: absolute;\"> </div>\n",
       "            <div style=\"margin-left: 48px;\">\n",
       "            <details>\n",
       "                <summary>\n",
       "                    <h4 style=\"margin-bottom: 0px; display: inline;\">Worker: tcp://10.67.22.244:38713</h4>\n",
       "                </summary>\n",
       "                <table style=\"width: 100%; text-align: left;\">\n",
       "                    <tr>\n",
       "                        <td style=\"text-align: left;\">\n",
       "                            <strong>Comm: </strong> tcp://10.67.22.244:38713\n",
       "                        </td>\n",
       "                        <td style=\"text-align: left;\">\n",
       "                            <strong>Total threads: </strong> 4\n",
       "                        </td>\n",
       "                    </tr>\n",
       "                    <tr>\n",
       "                        <td style=\"text-align: left;\">\n",
       "                            <strong>Dashboard: </strong> <a href=\"http://10.67.22.244:46837/status\" target=\"_blank\">http://10.67.22.244:46837/status</a>\n",
       "                        </td>\n",
       "                        <td style=\"text-align: left;\">\n",
       "                            <strong>Memory: </strong> 7.75 GiB\n",
       "                        </td>\n",
       "                    </tr>\n",
       "                    <tr>\n",
       "                        <td style=\"text-align: left;\">\n",
       "                            <strong>Nanny: </strong> tcp://10.67.22.244:40587\n",
       "                        </td>\n",
       "                        <td style=\"text-align: left;\"></td>\n",
       "                    </tr>\n",
       "                    <tr>\n",
       "                        <td colspan=\"2\" style=\"text-align: left;\">\n",
       "                            <strong>Local directory: </strong> /tmp/dask-scratch-space/worker-4ryt_ulg\n",
       "                        </td>\n",
       "                    </tr>\n",
       "\n",
       "                    \n",
       "\n",
       "                    \n",
       "\n",
       "                </table>\n",
       "            </details>\n",
       "            </div>\n",
       "        </div>\n",
       "        \n",
       "\n",
       "    </details>\n",
       "</div>\n",
       "\n",
       "        </details>\n",
       "    </div>\n",
       "</div>"
      ],
      "text/plain": [
       "SSHCluster(SSHCluster, 'tcp://10.67.22.221:41131', workers=3, threads=12, memory=23.25 GiB)"
      ]
     },
     "metadata": {},
     "output_type": "display_data"
    }
   ],
   "source": [
    "cluster"
   ]
  },
  {
   "cell_type": "code",
   "execution_count": 6,
   "metadata": {
    "cell_id": "68c2f0476001489bbf98bd105c49ab3a",
    "deepnote_cell_type": "code"
   },
   "outputs": [
    {
     "data": {
      "text/html": [
       "<div>\n",
       "    <div style=\"width: 24px; height: 24px; background-color: #e1e1e1; border: 3px solid #9D9D9D; border-radius: 5px; position: absolute;\"> </div>\n",
       "    <div style=\"margin-left: 48px;\">\n",
       "        <h3 style=\"margin-bottom: 0px;\">Client</h3>\n",
       "        <p style=\"color: #9D9D9D; margin-bottom: 0px;\">Client-8ca57718-5664-11ee-855b-4d94a1ec03af</p>\n",
       "        <table style=\"width: 100%; text-align: left;\">\n",
       "\n",
       "        <tr>\n",
       "        \n",
       "            <td style=\"text-align: left;\"><strong>Connection method:</strong> Cluster object</td>\n",
       "            <td style=\"text-align: left;\"><strong>Cluster type:</strong> distributed.SpecCluster</td>\n",
       "        \n",
       "        </tr>\n",
       "\n",
       "        \n",
       "            <tr>\n",
       "                <td style=\"text-align: left;\">\n",
       "                    <strong>Dashboard: </strong> <a href=\"http://10.67.22.221:7787/status\" target=\"_blank\">http://10.67.22.221:7787/status</a>\n",
       "                </td>\n",
       "                <td style=\"text-align: left;\"></td>\n",
       "            </tr>\n",
       "        \n",
       "\n",
       "        </table>\n",
       "\n",
       "        \n",
       "            <button style=\"margin-bottom: 12px;\" data-commandlinker-command=\"dask:populate-and-launch-layout\" data-commandlinker-args='{\"url\": \"http://10.67.22.221:7787/status\" }'>\n",
       "                Launch dashboard in JupyterLab\n",
       "            </button>\n",
       "        \n",
       "\n",
       "        \n",
       "            <details>\n",
       "            <summary style=\"margin-bottom: 20px;\"><h3 style=\"display: inline;\">Cluster Info</h3></summary>\n",
       "            <div class=\"jp-RenderedHTMLCommon jp-RenderedHTML jp-mod-trusted jp-OutputArea-output\">\n",
       "    <div style=\"width: 24px; height: 24px; background-color: #e1e1e1; border: 3px solid #9D9D9D; border-radius: 5px; position: absolute;\">\n",
       "    </div>\n",
       "    <div style=\"margin-left: 48px;\">\n",
       "        <h3 style=\"margin-bottom: 0px; margin-top: 0px;\">SpecCluster</h3>\n",
       "        <p style=\"color: #9D9D9D; margin-bottom: 0px;\">SSHCluster</p>\n",
       "        <table style=\"width: 100%; text-align: left;\">\n",
       "            <tr>\n",
       "                <td style=\"text-align: left;\">\n",
       "                    <strong>Dashboard:</strong> <a href=\"http://10.67.22.221:7787/status\" target=\"_blank\">http://10.67.22.221:7787/status</a>\n",
       "                </td>\n",
       "                <td style=\"text-align: left;\">\n",
       "                    <strong>Workers:</strong> 3\n",
       "                </td>\n",
       "            </tr>\n",
       "            <tr>\n",
       "                <td style=\"text-align: left;\">\n",
       "                    <strong>Total threads:</strong> 12\n",
       "                </td>\n",
       "                <td style=\"text-align: left;\">\n",
       "                    <strong>Total memory:</strong> 23.25 GiB\n",
       "                </td>\n",
       "            </tr>\n",
       "            \n",
       "        </table>\n",
       "\n",
       "        <details>\n",
       "            <summary style=\"margin-bottom: 20px;\">\n",
       "                <h3 style=\"display: inline;\">Scheduler Info</h3>\n",
       "            </summary>\n",
       "\n",
       "            <div style=\"\">\n",
       "    <div>\n",
       "        <div style=\"width: 24px; height: 24px; background-color: #FFF7E5; border: 3px solid #FF6132; border-radius: 5px; position: absolute;\"> </div>\n",
       "        <div style=\"margin-left: 48px;\">\n",
       "            <h3 style=\"margin-bottom: 0px;\">Scheduler</h3>\n",
       "            <p style=\"color: #9D9D9D; margin-bottom: 0px;\">Scheduler-b220b9c8-41c9-4cd6-802e-1f7539097018</p>\n",
       "            <table style=\"width: 100%; text-align: left;\">\n",
       "                <tr>\n",
       "                    <td style=\"text-align: left;\">\n",
       "                        <strong>Comm:</strong> tcp://10.67.22.221:41131\n",
       "                    </td>\n",
       "                    <td style=\"text-align: left;\">\n",
       "                        <strong>Workers:</strong> 3\n",
       "                    </td>\n",
       "                </tr>\n",
       "                <tr>\n",
       "                    <td style=\"text-align: left;\">\n",
       "                        <strong>Dashboard:</strong> <a href=\"http://10.67.22.221:7787/status\" target=\"_blank\">http://10.67.22.221:7787/status</a>\n",
       "                    </td>\n",
       "                    <td style=\"text-align: left;\">\n",
       "                        <strong>Total threads:</strong> 12\n",
       "                    </td>\n",
       "                </tr>\n",
       "                <tr>\n",
       "                    <td style=\"text-align: left;\">\n",
       "                        <strong>Started:</strong> Just now\n",
       "                    </td>\n",
       "                    <td style=\"text-align: left;\">\n",
       "                        <strong>Total memory:</strong> 23.25 GiB\n",
       "                    </td>\n",
       "                </tr>\n",
       "            </table>\n",
       "        </div>\n",
       "    </div>\n",
       "\n",
       "    <details style=\"margin-left: 48px;\">\n",
       "        <summary style=\"margin-bottom: 20px;\">\n",
       "            <h3 style=\"display: inline;\">Workers</h3>\n",
       "        </summary>\n",
       "\n",
       "        \n",
       "        <div style=\"margin-bottom: 20px;\">\n",
       "            <div style=\"width: 24px; height: 24px; background-color: #DBF5FF; border: 3px solid #4CC9FF; border-radius: 5px; position: absolute;\"> </div>\n",
       "            <div style=\"margin-left: 48px;\">\n",
       "            <details>\n",
       "                <summary>\n",
       "                    <h4 style=\"margin-bottom: 0px; display: inline;\">Worker: tcp://10.67.22.193:33747</h4>\n",
       "                </summary>\n",
       "                <table style=\"width: 100%; text-align: left;\">\n",
       "                    <tr>\n",
       "                        <td style=\"text-align: left;\">\n",
       "                            <strong>Comm: </strong> tcp://10.67.22.193:33747\n",
       "                        </td>\n",
       "                        <td style=\"text-align: left;\">\n",
       "                            <strong>Total threads: </strong> 4\n",
       "                        </td>\n",
       "                    </tr>\n",
       "                    <tr>\n",
       "                        <td style=\"text-align: left;\">\n",
       "                            <strong>Dashboard: </strong> <a href=\"http://10.67.22.193:38683/status\" target=\"_blank\">http://10.67.22.193:38683/status</a>\n",
       "                        </td>\n",
       "                        <td style=\"text-align: left;\">\n",
       "                            <strong>Memory: </strong> 7.75 GiB\n",
       "                        </td>\n",
       "                    </tr>\n",
       "                    <tr>\n",
       "                        <td style=\"text-align: left;\">\n",
       "                            <strong>Nanny: </strong> tcp://10.67.22.193:43639\n",
       "                        </td>\n",
       "                        <td style=\"text-align: left;\"></td>\n",
       "                    </tr>\n",
       "                    <tr>\n",
       "                        <td colspan=\"2\" style=\"text-align: left;\">\n",
       "                            <strong>Local directory: </strong> /tmp/dask-scratch-space/worker-hs9soyhr\n",
       "                        </td>\n",
       "                    </tr>\n",
       "\n",
       "                    \n",
       "\n",
       "                    \n",
       "\n",
       "                </table>\n",
       "            </details>\n",
       "            </div>\n",
       "        </div>\n",
       "        \n",
       "        <div style=\"margin-bottom: 20px;\">\n",
       "            <div style=\"width: 24px; height: 24px; background-color: #DBF5FF; border: 3px solid #4CC9FF; border-radius: 5px; position: absolute;\"> </div>\n",
       "            <div style=\"margin-left: 48px;\">\n",
       "            <details>\n",
       "                <summary>\n",
       "                    <h4 style=\"margin-bottom: 0px; display: inline;\">Worker: tcp://10.67.22.221:39617</h4>\n",
       "                </summary>\n",
       "                <table style=\"width: 100%; text-align: left;\">\n",
       "                    <tr>\n",
       "                        <td style=\"text-align: left;\">\n",
       "                            <strong>Comm: </strong> tcp://10.67.22.221:39617\n",
       "                        </td>\n",
       "                        <td style=\"text-align: left;\">\n",
       "                            <strong>Total threads: </strong> 4\n",
       "                        </td>\n",
       "                    </tr>\n",
       "                    <tr>\n",
       "                        <td style=\"text-align: left;\">\n",
       "                            <strong>Dashboard: </strong> <a href=\"http://10.67.22.221:45625/status\" target=\"_blank\">http://10.67.22.221:45625/status</a>\n",
       "                        </td>\n",
       "                        <td style=\"text-align: left;\">\n",
       "                            <strong>Memory: </strong> 7.75 GiB\n",
       "                        </td>\n",
       "                    </tr>\n",
       "                    <tr>\n",
       "                        <td style=\"text-align: left;\">\n",
       "                            <strong>Nanny: </strong> tcp://10.67.22.221:39571\n",
       "                        </td>\n",
       "                        <td style=\"text-align: left;\"></td>\n",
       "                    </tr>\n",
       "                    <tr>\n",
       "                        <td colspan=\"2\" style=\"text-align: left;\">\n",
       "                            <strong>Local directory: </strong> /tmp/dask-scratch-space/worker-yat40lh2\n",
       "                        </td>\n",
       "                    </tr>\n",
       "\n",
       "                    \n",
       "\n",
       "                    \n",
       "\n",
       "                </table>\n",
       "            </details>\n",
       "            </div>\n",
       "        </div>\n",
       "        \n",
       "        <div style=\"margin-bottom: 20px;\">\n",
       "            <div style=\"width: 24px; height: 24px; background-color: #DBF5FF; border: 3px solid #4CC9FF; border-radius: 5px; position: absolute;\"> </div>\n",
       "            <div style=\"margin-left: 48px;\">\n",
       "            <details>\n",
       "                <summary>\n",
       "                    <h4 style=\"margin-bottom: 0px; display: inline;\">Worker: tcp://10.67.22.244:38713</h4>\n",
       "                </summary>\n",
       "                <table style=\"width: 100%; text-align: left;\">\n",
       "                    <tr>\n",
       "                        <td style=\"text-align: left;\">\n",
       "                            <strong>Comm: </strong> tcp://10.67.22.244:38713\n",
       "                        </td>\n",
       "                        <td style=\"text-align: left;\">\n",
       "                            <strong>Total threads: </strong> 4\n",
       "                        </td>\n",
       "                    </tr>\n",
       "                    <tr>\n",
       "                        <td style=\"text-align: left;\">\n",
       "                            <strong>Dashboard: </strong> <a href=\"http://10.67.22.244:46837/status\" target=\"_blank\">http://10.67.22.244:46837/status</a>\n",
       "                        </td>\n",
       "                        <td style=\"text-align: left;\">\n",
       "                            <strong>Memory: </strong> 7.75 GiB\n",
       "                        </td>\n",
       "                    </tr>\n",
       "                    <tr>\n",
       "                        <td style=\"text-align: left;\">\n",
       "                            <strong>Nanny: </strong> tcp://10.67.22.244:40587\n",
       "                        </td>\n",
       "                        <td style=\"text-align: left;\"></td>\n",
       "                    </tr>\n",
       "                    <tr>\n",
       "                        <td colspan=\"2\" style=\"text-align: left;\">\n",
       "                            <strong>Local directory: </strong> /tmp/dask-scratch-space/worker-4ryt_ulg\n",
       "                        </td>\n",
       "                    </tr>\n",
       "\n",
       "                    \n",
       "\n",
       "                    \n",
       "\n",
       "                </table>\n",
       "            </details>\n",
       "            </div>\n",
       "        </div>\n",
       "        \n",
       "\n",
       "    </details>\n",
       "</div>\n",
       "\n",
       "        </details>\n",
       "    </div>\n",
       "</div>\n",
       "            </details>\n",
       "        \n",
       "\n",
       "    </div>\n",
       "</div>"
      ],
      "text/plain": [
       "<Client: 'tcp://10.67.22.221:41131' processes=2 threads=8, memory=15.50 GiB>"
      ]
     },
     "execution_count": 6,
     "metadata": {},
     "output_type": "execute_result"
    }
   ],
   "source": [
    "client"
   ]
  },
  {
   "cell_type": "markdown",
   "metadata": {
    "cell_id": "008e03710f854a5e95add4f120265d17",
    "deepnote_cell_type": "markdown"
   },
   "source": [
    "### Dataset"
   ]
  },
  {
   "cell_type": "markdown",
   "metadata": {
    "cell_id": "fc3ebdbcb7db4c1791fca41992de79c4",
    "deepnote_cell_type": "markdown"
   },
   "source": [
    "The Reuters Corpus Volume I (RCV1) dataset is a widely used benchmark dataset in natural language processing and machine learning. It consists of news articles originally collected by Reuters in english between August 20, 1996, and August 19, 1997, covering a wide range of topics. In the preprocessed form commonly available RCV1 includes 103 topics, with each document being assigned at least 1, and 4 overarching macrocategories. The data archive encloses 804414 samples (articles) and 47236 features (unique words) in a scipy CSR sparse matrix format with 0.16% of non zero values. The transformation from text to real values was achieved by cosine-normalizing the log TF-IDF of each sample.\n",
    "\n",
    "In our case three key traits of RCV1 must be highlighted: its intrinsically challenging nature as a multi-label classification task, its substantial size and its high level of sparsity. These  characteristics spark the need for a further preprocessing to better align the dataset with our objectve,  outside its originally intended scope in NLP."
   ]
  },
  {
   "cell_type": "markdown",
   "metadata": {
    "cell_id": "2740029cbeba43a0b14c9a517464826f",
    "deepnote_cell_type": "markdown"
   },
   "source": [
    "N.B. To use the library `sparse` you have to downgrade `numpy` to version `1.24.4`"
   ]
  },
  {
   "cell_type": "code",
   "execution_count": 7,
   "metadata": {
    "cell_id": "70bbc7f6af9a47a597ee4c2cad4ba34a",
    "deepnote_cell_type": "code"
   },
   "outputs": [
    {
     "name": "stdout",
     "output_type": "stream",
     "text": [
      "numpy version: 1.24.4\n"
     ]
    }
   ],
   "source": [
    "from sklearn.datasets import fetch_rcv1\n",
    "import dask.array as da\n",
    "import numpy as np\n",
    "import sparse\n",
    "print(\"numpy version:\",np.__version__)"
   ]
  },
  {
   "cell_type": "markdown",
   "metadata": {
    "cell_id": "99222d1246c54fe4b5c7985247392483",
    "deepnote_cell_type": "markdown"
   },
   "source": [
    "### Dask Array"
   ]
  },
  {
   "cell_type": "markdown",
   "metadata": {
    "cell_id": "dd6c580f266244f39431d79adb927c4c",
    "deepnote_cell_type": "markdown"
   },
   "source": [
    "To analyze our dataset we load it into a Dask Array. A Dask Array implements a subset of the NumPy ndarray interface using blocked algorithms, cutting up the large array into many small arrays, referred to as \"chunks.\" The performance of our analysis is significantly impacted by how these chunks are arranged."
   ]
  },
  {
   "cell_type": "markdown",
   "metadata": {
    "cell_id": "10ad851c93db4a90aa4e8275cb40e246",
    "deepnote_cell_type": "markdown"
   },
   "source": [
    "<img src=\"images/dask-array.svg\" alt=\"Dask Array\" width=\"500\" height=\"500\">"
   ]
  },
  {
   "cell_type": "markdown",
   "metadata": {
    "cell_id": "a0c9e0f5eed24283a4b9288fceac15f6",
    "deepnote_cell_type": "markdown"
   },
   "source": [
    "For performance, a good choice of chunks observes the following rules:\n",
    "\n",
    "- A chunk should be small enough to fit comfortably in memory. We will have many chunks in memory at once.\n",
    "- A chunk must be large enough so that computations on that chunk take significantly longer than the 1ms overhead per task that Dask scheduling incurs.\n",
    "- Chunks should align with the computation that we want to do.\n",
    "\t- For example, if we plan to frequently slice along a particular dimension, then it’s more efficient if the chunks are aligned so that we have to touch fewer chunks.\n",
    "\n",
    "In our specific scenario, as our focus is on working with the rows, it's far more practical to split the array horizontally, following the row orientation.\n",
    "\n",
    "Another factor to consider involves the utilization of operations that reduce the dimensions of the matrix. When such operations are applied, there's a potential risk that the number and layout of the chunks may become highly inefficient. Therefore, it is beneficial to employ the `rechunk` function to assess and rectify this aspect."
   ]
  },
  {
   "cell_type": "code",
   "execution_count": 8,
   "metadata": {
    "cell_id": "686e8a4ef349476a9a348a48effeba3e",
    "deepnote_cell_type": "code"
   },
   "outputs": [],
   "source": [
    "# Load the dataset into a dask array\n",
    "X_dask = da.from_array(fetch_rcv1().data, chunks=(400, 47236))"
   ]
  },
  {
   "cell_type": "code",
   "execution_count": 9,
   "metadata": {
    "cell_id": "ffdd6296c3f947d8af4bc098bbbf9ddf",
    "deepnote_cell_type": "code"
   },
   "outputs": [
    {
     "data": {
      "text/html": [
       "<table>\n",
       "    <tr>\n",
       "        <td>\n",
       "            <table style=\"border-collapse: collapse;\">\n",
       "                <thead>\n",
       "                    <tr>\n",
       "                        <td> </td>\n",
       "                        <th> Array </th>\n",
       "                        <th> Chunk </th>\n",
       "                    </tr>\n",
       "                </thead>\n",
       "                <tbody>\n",
       "                    \n",
       "                    <tr>\n",
       "                        <th> Shape </th>\n",
       "                        <td> (804414, 47236) </td>\n",
       "                        <td> (400, 47236) </td>\n",
       "                    </tr>\n",
       "                    <tr>\n",
       "                        <th> Dask graph </th>\n",
       "                        <td colspan=\"2\"> 2012 chunks in 2 graph layers </td>\n",
       "                    </tr>\n",
       "                    <tr>\n",
       "                        <th> Data type </th>\n",
       "                        <td colspan=\"2\"> float64 scipy.sparse._csr.csr_matrix </td>\n",
       "                    </tr>\n",
       "                </tbody>\n",
       "            </table>\n",
       "        </td>\n",
       "        <td>\n",
       "        <svg width=\"85\" height=\"170\" style=\"stroke:rgb(0,0,0);stroke-width:1\" >\n",
       "\n",
       "  <!-- Horizontal lines -->\n",
       "  <line x1=\"0\" y1=\"0\" x2=\"35\" y2=\"0\" style=\"stroke-width:2\" />\n",
       "  <line x1=\"0\" y1=\"6\" x2=\"35\" y2=\"6\" />\n",
       "  <line x1=\"0\" y1=\"12\" x2=\"35\" y2=\"12\" />\n",
       "  <line x1=\"0\" y1=\"18\" x2=\"35\" y2=\"18\" />\n",
       "  <line x1=\"0\" y1=\"25\" x2=\"35\" y2=\"25\" />\n",
       "  <line x1=\"0\" y1=\"31\" x2=\"35\" y2=\"31\" />\n",
       "  <line x1=\"0\" y1=\"37\" x2=\"35\" y2=\"37\" />\n",
       "  <line x1=\"0\" y1=\"44\" x2=\"35\" y2=\"44\" />\n",
       "  <line x1=\"0\" y1=\"50\" x2=\"35\" y2=\"50\" />\n",
       "  <line x1=\"0\" y1=\"56\" x2=\"35\" y2=\"56\" />\n",
       "  <line x1=\"0\" y1=\"63\" x2=\"35\" y2=\"63\" />\n",
       "  <line x1=\"0\" y1=\"69\" x2=\"35\" y2=\"69\" />\n",
       "  <line x1=\"0\" y1=\"75\" x2=\"35\" y2=\"75\" />\n",
       "  <line x1=\"0\" y1=\"82\" x2=\"35\" y2=\"82\" />\n",
       "  <line x1=\"0\" y1=\"88\" x2=\"35\" y2=\"88\" />\n",
       "  <line x1=\"0\" y1=\"94\" x2=\"35\" y2=\"94\" />\n",
       "  <line x1=\"0\" y1=\"101\" x2=\"35\" y2=\"101\" />\n",
       "  <line x1=\"0\" y1=\"107\" x2=\"35\" y2=\"107\" />\n",
       "  <line x1=\"0\" y1=\"113\" x2=\"35\" y2=\"113\" />\n",
       "  <line x1=\"0\" y1=\"120\" x2=\"35\" y2=\"120\" style=\"stroke-width:2\" />\n",
       "\n",
       "  <!-- Vertical lines -->\n",
       "  <line x1=\"0\" y1=\"0\" x2=\"0\" y2=\"120\" style=\"stroke-width:2\" />\n",
       "  <line x1=\"35\" y1=\"0\" x2=\"35\" y2=\"120\" style=\"stroke-width:2\" />\n",
       "\n",
       "  <!-- Colored Rectangle -->\n",
       "  <polygon points=\"0.0,0.0 35.4819243652084,0.0 35.4819243652084,120.0 0.0,120.0\" style=\"fill:#8B4903A0;stroke-width:0\"/>\n",
       "\n",
       "  <!-- Text -->\n",
       "  <text x=\"17.740962\" y=\"140.000000\" font-size=\"1.0rem\" font-weight=\"100\" text-anchor=\"middle\" >47236</text>\n",
       "  <text x=\"55.481924\" y=\"60.000000\" font-size=\"1.0rem\" font-weight=\"100\" text-anchor=\"middle\" transform=\"rotate(-90,55.481924,60.000000)\">804414</text>\n",
       "</svg>\n",
       "        </td>\n",
       "    </tr>\n",
       "</table>"
      ],
      "text/plain": [
       "dask.array<array, shape=(804414, 47236), dtype=float64, chunksize=(400, 47236), chunktype=scipy.csr_matrix>"
      ]
     },
     "execution_count": 9,
     "metadata": {},
     "output_type": "execute_result"
    }
   ],
   "source": [
    "X_dask"
   ]
  },
  {
   "cell_type": "code",
   "execution_count": 10,
   "metadata": {
    "cell_id": "a022b91b8a7f49068e8efc0747dd9884",
    "deepnote_cell_type": "code"
   },
   "outputs": [],
   "source": [
    "# Convert the dataset type from scipy_sparse to dask compatible sparse format\n",
    "X_sparse = X_dask.map_blocks(sparse.COO.from_scipy_sparse, dtype=X_dask.dtype)"
   ]
  },
  {
   "cell_type": "code",
   "execution_count": 11,
   "metadata": {
    "cell_id": "5b4d6ace0f214bc48e6de5c59fba85cf",
    "deepnote_cell_type": "code"
   },
   "outputs": [
    {
     "data": {
      "text/html": [
       "<table>\n",
       "    <tr>\n",
       "        <td>\n",
       "            <table style=\"border-collapse: collapse;\">\n",
       "                <thead>\n",
       "                    <tr>\n",
       "                        <td> </td>\n",
       "                        <th> Array </th>\n",
       "                        <th> Chunk </th>\n",
       "                    </tr>\n",
       "                </thead>\n",
       "                <tbody>\n",
       "                    \n",
       "                    <tr>\n",
       "                        <th> Shape </th>\n",
       "                        <td> (804414, 47236) </td>\n",
       "                        <td> (400, 47236) </td>\n",
       "                    </tr>\n",
       "                    <tr>\n",
       "                        <th> Dask graph </th>\n",
       "                        <td colspan=\"2\"> 2012 chunks in 3 graph layers </td>\n",
       "                    </tr>\n",
       "                    <tr>\n",
       "                        <th> Data type </th>\n",
       "                        <td colspan=\"2\"> float64 sparse._coo.core.COO </td>\n",
       "                    </tr>\n",
       "                </tbody>\n",
       "            </table>\n",
       "        </td>\n",
       "        <td>\n",
       "        <svg width=\"85\" height=\"170\" style=\"stroke:rgb(0,0,0);stroke-width:1\" >\n",
       "\n",
       "  <!-- Horizontal lines -->\n",
       "  <line x1=\"0\" y1=\"0\" x2=\"35\" y2=\"0\" style=\"stroke-width:2\" />\n",
       "  <line x1=\"0\" y1=\"6\" x2=\"35\" y2=\"6\" />\n",
       "  <line x1=\"0\" y1=\"12\" x2=\"35\" y2=\"12\" />\n",
       "  <line x1=\"0\" y1=\"18\" x2=\"35\" y2=\"18\" />\n",
       "  <line x1=\"0\" y1=\"25\" x2=\"35\" y2=\"25\" />\n",
       "  <line x1=\"0\" y1=\"31\" x2=\"35\" y2=\"31\" />\n",
       "  <line x1=\"0\" y1=\"37\" x2=\"35\" y2=\"37\" />\n",
       "  <line x1=\"0\" y1=\"44\" x2=\"35\" y2=\"44\" />\n",
       "  <line x1=\"0\" y1=\"50\" x2=\"35\" y2=\"50\" />\n",
       "  <line x1=\"0\" y1=\"56\" x2=\"35\" y2=\"56\" />\n",
       "  <line x1=\"0\" y1=\"63\" x2=\"35\" y2=\"63\" />\n",
       "  <line x1=\"0\" y1=\"69\" x2=\"35\" y2=\"69\" />\n",
       "  <line x1=\"0\" y1=\"75\" x2=\"35\" y2=\"75\" />\n",
       "  <line x1=\"0\" y1=\"82\" x2=\"35\" y2=\"82\" />\n",
       "  <line x1=\"0\" y1=\"88\" x2=\"35\" y2=\"88\" />\n",
       "  <line x1=\"0\" y1=\"94\" x2=\"35\" y2=\"94\" />\n",
       "  <line x1=\"0\" y1=\"101\" x2=\"35\" y2=\"101\" />\n",
       "  <line x1=\"0\" y1=\"107\" x2=\"35\" y2=\"107\" />\n",
       "  <line x1=\"0\" y1=\"113\" x2=\"35\" y2=\"113\" />\n",
       "  <line x1=\"0\" y1=\"120\" x2=\"35\" y2=\"120\" style=\"stroke-width:2\" />\n",
       "\n",
       "  <!-- Vertical lines -->\n",
       "  <line x1=\"0\" y1=\"0\" x2=\"0\" y2=\"120\" style=\"stroke-width:2\" />\n",
       "  <line x1=\"35\" y1=\"0\" x2=\"35\" y2=\"120\" style=\"stroke-width:2\" />\n",
       "\n",
       "  <!-- Colored Rectangle -->\n",
       "  <polygon points=\"0.0,0.0 35.4819243652084,0.0 35.4819243652084,120.0 0.0,120.0\" style=\"fill:#8B4903A0;stroke-width:0\"/>\n",
       "\n",
       "  <!-- Text -->\n",
       "  <text x=\"17.740962\" y=\"140.000000\" font-size=\"1.0rem\" font-weight=\"100\" text-anchor=\"middle\" >47236</text>\n",
       "  <text x=\"55.481924\" y=\"60.000000\" font-size=\"1.0rem\" font-weight=\"100\" text-anchor=\"middle\" transform=\"rotate(-90,55.481924,60.000000)\">804414</text>\n",
       "</svg>\n",
       "        </td>\n",
       "    </tr>\n",
       "</table>"
      ],
      "text/plain": [
       "dask.array<from_scipy_sparse, shape=(804414, 47236), dtype=float64, chunksize=(400, 47236), chunktype=sparse.COO>"
      ]
     },
     "execution_count": 11,
     "metadata": {},
     "output_type": "execute_result"
    }
   ],
   "source": [
    "X_sparse"
   ]
  },
  {
   "cell_type": "code",
   "execution_count": 12,
   "metadata": {
    "cell_id": "943fab8364bd45a0b9d9e54430314c18",
    "deepnote_cell_type": "code"
   },
   "outputs": [],
   "source": [
    "def densify(sparse):\n",
    "    return sparse.todense()"
   ]
  },
  {
   "cell_type": "code",
   "execution_count": 13,
   "metadata": {
    "cell_id": "f7a9edd5d6ca48e7b3c837b203738d50",
    "deepnote_cell_type": "code"
   },
   "outputs": [],
   "source": [
    "# Convert the dataset format to dense\n",
    "X_dense = da.map_blocks(densify, X_sparse, dtype=\"float64\")"
   ]
  },
  {
   "cell_type": "code",
   "execution_count": 14,
   "metadata": {},
   "outputs": [
    {
     "data": {
      "text/html": [
       "<table>\n",
       "    <tr>\n",
       "        <td>\n",
       "            <table style=\"border-collapse: collapse;\">\n",
       "                <thead>\n",
       "                    <tr>\n",
       "                        <td> </td>\n",
       "                        <th> Array </th>\n",
       "                        <th> Chunk </th>\n",
       "                    </tr>\n",
       "                </thead>\n",
       "                <tbody>\n",
       "                    \n",
       "                    <tr>\n",
       "                        <th> Bytes </th>\n",
       "                        <td> 283.10 GiB </td>\n",
       "                        <td> 144.15 MiB </td>\n",
       "                    </tr>\n",
       "                    \n",
       "                    <tr>\n",
       "                        <th> Shape </th>\n",
       "                        <td> (804414, 47236) </td>\n",
       "                        <td> (400, 47236) </td>\n",
       "                    </tr>\n",
       "                    <tr>\n",
       "                        <th> Dask graph </th>\n",
       "                        <td colspan=\"2\"> 2012 chunks in 4 graph layers </td>\n",
       "                    </tr>\n",
       "                    <tr>\n",
       "                        <th> Data type </th>\n",
       "                        <td colspan=\"2\"> float64 numpy.ndarray </td>\n",
       "                    </tr>\n",
       "                </tbody>\n",
       "            </table>\n",
       "        </td>\n",
       "        <td>\n",
       "        <svg width=\"85\" height=\"170\" style=\"stroke:rgb(0,0,0);stroke-width:1\" >\n",
       "\n",
       "  <!-- Horizontal lines -->\n",
       "  <line x1=\"0\" y1=\"0\" x2=\"35\" y2=\"0\" style=\"stroke-width:2\" />\n",
       "  <line x1=\"0\" y1=\"6\" x2=\"35\" y2=\"6\" />\n",
       "  <line x1=\"0\" y1=\"12\" x2=\"35\" y2=\"12\" />\n",
       "  <line x1=\"0\" y1=\"18\" x2=\"35\" y2=\"18\" />\n",
       "  <line x1=\"0\" y1=\"25\" x2=\"35\" y2=\"25\" />\n",
       "  <line x1=\"0\" y1=\"31\" x2=\"35\" y2=\"31\" />\n",
       "  <line x1=\"0\" y1=\"37\" x2=\"35\" y2=\"37\" />\n",
       "  <line x1=\"0\" y1=\"44\" x2=\"35\" y2=\"44\" />\n",
       "  <line x1=\"0\" y1=\"50\" x2=\"35\" y2=\"50\" />\n",
       "  <line x1=\"0\" y1=\"56\" x2=\"35\" y2=\"56\" />\n",
       "  <line x1=\"0\" y1=\"63\" x2=\"35\" y2=\"63\" />\n",
       "  <line x1=\"0\" y1=\"69\" x2=\"35\" y2=\"69\" />\n",
       "  <line x1=\"0\" y1=\"75\" x2=\"35\" y2=\"75\" />\n",
       "  <line x1=\"0\" y1=\"82\" x2=\"35\" y2=\"82\" />\n",
       "  <line x1=\"0\" y1=\"88\" x2=\"35\" y2=\"88\" />\n",
       "  <line x1=\"0\" y1=\"94\" x2=\"35\" y2=\"94\" />\n",
       "  <line x1=\"0\" y1=\"101\" x2=\"35\" y2=\"101\" />\n",
       "  <line x1=\"0\" y1=\"107\" x2=\"35\" y2=\"107\" />\n",
       "  <line x1=\"0\" y1=\"113\" x2=\"35\" y2=\"113\" />\n",
       "  <line x1=\"0\" y1=\"120\" x2=\"35\" y2=\"120\" style=\"stroke-width:2\" />\n",
       "\n",
       "  <!-- Vertical lines -->\n",
       "  <line x1=\"0\" y1=\"0\" x2=\"0\" y2=\"120\" style=\"stroke-width:2\" />\n",
       "  <line x1=\"35\" y1=\"0\" x2=\"35\" y2=\"120\" style=\"stroke-width:2\" />\n",
       "\n",
       "  <!-- Colored Rectangle -->\n",
       "  <polygon points=\"0.0,0.0 35.4819243652084,0.0 35.4819243652084,120.0 0.0,120.0\" style=\"fill:#8B4903A0;stroke-width:0\"/>\n",
       "\n",
       "  <!-- Text -->\n",
       "  <text x=\"17.740962\" y=\"140.000000\" font-size=\"1.0rem\" font-weight=\"100\" text-anchor=\"middle\" >47236</text>\n",
       "  <text x=\"55.481924\" y=\"60.000000\" font-size=\"1.0rem\" font-weight=\"100\" text-anchor=\"middle\" transform=\"rotate(-90,55.481924,60.000000)\">804414</text>\n",
       "</svg>\n",
       "        </td>\n",
       "    </tr>\n",
       "</table>"
      ],
      "text/plain": [
       "dask.array<densify, shape=(804414, 47236), dtype=float64, chunksize=(400, 47236), chunktype=numpy.ndarray>"
      ]
     },
     "execution_count": 14,
     "metadata": {},
     "output_type": "execute_result"
    }
   ],
   "source": [
    "X_dense"
   ]
  },
  {
   "cell_type": "markdown",
   "metadata": {
    "cell_id": "b176ca1209ae4871bdffb1e9cfd8cb72",
    "deepnote_cell_type": "markdown"
   },
   "source": [
    "### Preprocessing"
   ]
  },
  {
   "cell_type": "markdown",
   "metadata": {
    "cell_id": "d970fe390ac24264820014d309c3602f",
    "deepnote_cell_type": "markdown"
   },
   "source": [
    "In the current form the dataset is most suitable for NLP multi-label classification, so our application of a standard Euclid-distance K-means requires a convenient semplification. We address 2 of the 3 key aforementioned issues with RCV1 with a single strategy: reducing the level of data complexity by restricting the samples based on only 4 macro topics and excluding multi topic samples. A simpler algorithm allows for a more straightforward control of the optimization of parallelization and resource management. Also, due to scarse compatibility between standard libraries and sparse, we will work with dense data."
   ]
  },
  {
   "cell_type": "markdown",
   "metadata": {
    "cell_id": "440fb9461efd47688ea22b75603b3c8d",
    "deepnote_cell_type": "markdown"
   },
   "source": [
    "### Filtering the dataset"
   ]
  },
  {
   "cell_type": "markdown",
   "metadata": {
    "cell_id": "f91908eb511d43e2a158b639839e75f8",
    "deepnote_cell_type": "markdown"
   },
   "source": [
    "As previously mentioned, we simplified the dataset by excluding data associated with multiple macrocategories. To achieve this, we first identified macrocategories within the 103 classes, denoted by four letters: $C$ for Corporate/Industrial, $E$ for Economics, $G$ for Government/Social, and $M$ for Markets."
   ]
  },
  {
   "cell_type": "code",
   "execution_count": 17,
   "metadata": {
    "cell_id": "dfd73dc682df4a2cab743abee46e1bc9",
    "deepnote_cell_type": "code"
   },
   "outputs": [],
   "source": [
    "rcv1 = fetch_rcv1()\n",
    "target = da.from_array(rcv1.target, chunks=(4022,103)).map_blocks(sparse.COO)"
   ]
  },
  {
   "cell_type": "code",
   "execution_count": 18,
   "metadata": {
    "cell_id": "47087c735f1247d4b136df471149dfb8",
    "deepnote_cell_type": "code"
   },
   "outputs": [],
   "source": [
    "category_dict = {\"C\": [], \"E\": [], \"G\": [], \"M\": []}\n",
    "\n",
    "for name in rcv1[\"target_names\"]:\n",
    "    category_dict[name[0]].append(name)\n",
    "\n",
    "n_ind = len(category_dict[\"C\"])\n",
    "n_ec = len(category_dict[\"E\"])\n",
    "n_soc = len(category_dict[\"G\"])\n",
    "n_mark = len(category_dict[\"M\"])"
   ]
  },
  {
   "cell_type": "markdown",
   "metadata": {
    "cell_id": "e61cff35dda641eea8a5ba760d1449e6",
    "deepnote_cell_type": "markdown"
   },
   "source": [
    "Each article is associated with a 103-element vector, with each element representing one possible class. A value of 1 indicates the presence of the class in the article, while 0 signifies its absence. To simplify the labels for each article, we summed up the labels belonging to a specific macrocategory. This resulted in a vector with only 4 elements for each article, indicating how many classes from each macrocategory the article includes."
   ]
  },
  {
   "cell_type": "code",
   "execution_count": 19,
   "metadata": {
    "cell_id": "1e79a43e9cac4f969be61003c8cd881b",
    "deepnote_cell_type": "code"
   },
   "outputs": [
    {
     "name": "stdout",
     "output_type": "stream",
     "text": [
      "CPU times: user 1.64 ms, sys: 115 µs, total: 1.76 ms\n",
      "Wall time: 1.76 ms\n"
     ]
    }
   ],
   "source": [
    "%%time\n",
    "def create(i, array):\n",
    "    row = np.zeros(4)\n",
    "    row[0] = array[i, :n_ind].sum()\n",
    "    row[1] = array[i, n_ind:n_ind + n_ec].sum()\n",
    "    row[2] = array[i, n_ind + n_ec:n_ind + n_ec + n_soc].sum()\n",
    "    row[3] = array[i, n_ind + n_ec + n_soc:n_ind + n_ec + n_soc + n_mark].sum()\n",
    "    return row\n",
    "\n",
    "def fill(array):\n",
    "    return np.array([create(i, array) for i in range(array.shape[0])], dtype=\"int32\")\n",
    "\n",
    "labels = da.map_blocks(fill, target, dtype=\"int32\")"
   ]
  },
  {
   "cell_type": "markdown",
   "metadata": {
    "cell_id": "83e666ff03194f1786434849ba9bf21a",
    "deepnote_cell_type": "markdown"
   },
   "source": [
    "Now that we have information about the number of macrocategories per article, we can remove articles belonging to more than one macrocategory. To do this, we created a list of boolean values (True/False) associated with articles belonging to only one macrocategory (True) or more than one (False).\n",
    "<br>\n",
    "With this list, we created a list of \"true\" labels, where 0 corresponds to macrocategory $C$, 1 to macrocategory $E$, 2 to macrocategory $G$, and 3 to macrocategory $M$. We then applied this filter to slice the dataset.\n",
    "<br>\n",
    "The choice of using these labels as \"true\" labels for our clustering problem, as mentioned before, it is jutified by the necessity of lowering the complexity of our dataset but we do not expect that the dataset is really clusterized in this expected way. Since we know that the space in which articles are represented is an embedding space, we claim that can be a plausible hypotesis to investigate with clustering algorithms but, as we will show, not necessarly the truth.\n"
   ]
  },
  {
   "cell_type": "code",
   "execution_count": 20,
   "metadata": {
    "cell_id": "940b3c9b80bc4a278b0207fbf0779283",
    "deepnote_cell_type": "code"
   },
   "outputs": [],
   "source": [
    "def check(row):\n",
    "    if np.nonzero(row)[0].shape[0] == 1:\n",
    "        save_idx = True\n",
    "    else:\n",
    "        save_idx = False\n",
    "    return save_idx\n",
    "\n",
    "def filt(array):\n",
    "    return np.array(list(map(check, array))).reshape(array.shape[0],1)\n",
    "\n",
    "list_indx = da.map_blocks(filt, labels, dtype=\"bool\")"
   ]
  },
  {
   "cell_type": "code",
   "execution_count": 21,
   "metadata": {
    "cell_id": "a394b94701c4403692b20b5836e1fb99",
    "deepnote_cell_type": "code"
   },
   "outputs": [
    {
     "name": "stdout",
     "output_type": "stream",
     "text": [
      "CPU times: user 8.88 s, sys: 111 ms, total: 8.99 s\n",
      "Wall time: 6min 20s\n"
     ]
    }
   ],
   "source": [
    "%%time\n",
    "idx = list_indx.compute()"
   ]
  },
  {
   "cell_type": "code",
   "execution_count": 22,
   "metadata": {
    "cell_id": "9f8d1f4975fe4859ba82236b9c8f31a2",
    "deepnote_cell_type": "code"
   },
   "outputs": [],
   "source": [
    "# reshape for slicing\n",
    "idx = idx.reshape(idx.shape[0],)\n",
    "def labelize(array):\n",
    "    return np.array(np.nonzero(array)[0][0]).reshape(1,1)\n",
    "def labb(array):\n",
    "    return np.array(list(map(labelize, array))).reshape(array.shape[0],1)"
   ]
  },
  {
   "cell_type": "code",
   "execution_count": 23,
   "metadata": {
    "cell_id": "812489fba3b54a33b52dfcf35b7a4f93",
    "deepnote_cell_type": "code"
   },
   "outputs": [
    {
     "name": "stdout",
     "output_type": "stream",
     "text": [
      "CPU times: user 42.5 ms, sys: 0 ns, total: 42.5 ms\n",
      "Wall time: 42 ms\n"
     ]
    }
   ],
   "source": [
    "%%time\n",
    "l_array = labels[idx]\n",
    "true_labels = da.map_blocks(labb, l_array)"
   ]
  },
  {
   "cell_type": "code",
   "execution_count": 24,
   "metadata": {
    "cell_id": "8650eff2a73e466e9965fbcb2f8aa741",
    "deepnote_cell_type": "code"
   },
   "outputs": [
    {
     "name": "stdout",
     "output_type": "stream",
     "text": [
      "CPU times: user 8.72 s, sys: 138 ms, total: 8.86 s\n",
      "Wall time: 6min 17s\n"
     ]
    }
   ],
   "source": [
    "%%time\n",
    "true_l = true_labels.compute()"
   ]
  },
  {
   "cell_type": "code",
   "execution_count": 25,
   "metadata": {
    "cell_id": "823e5a991aca4c1ab23c5d5c2f9ac76a",
    "deepnote_cell_type": "code"
   },
   "outputs": [],
   "source": [
    "def extraxt(l):\n",
    "    return l[0]\n",
    "a = true_l.tolist()\n",
    "true_labels = list(map(extraxt, a))"
   ]
  },
  {
   "cell_type": "code",
   "execution_count": 26,
   "metadata": {
    "cell_id": "fb5f2c3ceea44a8492464c5f9db99bdb",
    "deepnote_cell_type": "code"
   },
   "outputs": [],
   "source": [
    "# save index in a npz file\n",
    "ftype = \"boolen_idx\" \n",
    "\n",
    "np.savez(\"results/{}\".format(ftype), idx=idx)"
   ]
  },
  {
   "cell_type": "code",
   "execution_count": 27,
   "metadata": {
    "cell_id": "189124d27423497b98337bed404476e5",
    "deepnote_cell_type": "code"
   },
   "outputs": [],
   "source": [
    "# save labels in a npz file\n",
    "ftype = \"true_labels\" # acceptable (a) mini batch size (mb)\n",
    "\n",
    "np.savez(\"results/{}\".format(ftype), true_labels=true_labels)"
   ]
  },
  {
   "cell_type": "markdown",
   "metadata": {
    "cell_id": "84bd6d26c34d495cbd7ca2148490e776",
    "deepnote_cell_type": "markdown"
   },
   "source": [
    "### Load filtered dataset"
   ]
  },
  {
   "cell_type": "markdown",
   "metadata": {
    "cell_id": "958ebc68ca404e18b20bf5cf0fcf6082",
    "deepnote_cell_type": "markdown"
   },
   "source": [
    "The filtered dataset consists of 685071 articles, which accounts for 85% of the original dataset. From this point forward, we will simply refer to the filtered dataset as the dataset."
   ]
  },
  {
   "cell_type": "code",
   "execution_count": 15,
   "metadata": {
    "cell_id": "c219d7d004314390b809ece2453ddbe8",
    "deepnote_cell_type": "code",
    "deepnote_to_be_reexecuted": false,
    "execution_millis": 104,
    "execution_start": 1695065581016,
    "source_hash": "7296742d"
   },
   "outputs": [],
   "source": [
    "# load indexes\n",
    "\n",
    "ftype = \"boolen_idx\" # string to add in the file name\n",
    "\n",
    "file = \"results/{}.npz\".format(ftype)\n",
    "\n",
    "new_idx = np.load(file) # data is a dictionary with all the variables\n",
    "\n",
    "# load index\n",
    "idx = new_idx[\"idx\"]"
   ]
  },
  {
   "cell_type": "code",
   "execution_count": 16,
   "metadata": {
    "cell_id": "bf3f9b6513d54004ad89bc48338fdd5a",
    "deepnote_cell_type": "code",
    "deepnote_to_be_reexecuted": false,
    "execution_millis": 24,
    "execution_start": 1695065583215,
    "source_hash": "4de1bc50"
   },
   "outputs": [],
   "source": [
    "# load labels\n",
    "\n",
    "ftype = \"true_labels\" # string to add in the file name\n",
    "\n",
    "file = \"results/{}.npz\".format(ftype)\n",
    "\n",
    "true = np.load(file) # data is a dictionary with all the variables\n",
    "\n",
    "# load parameters into variables\n",
    "locals().update(true)\n",
    "true_lab = true[\"true_labels\"]"
   ]
  },
  {
   "cell_type": "code",
   "execution_count": 17,
   "metadata": {
    "cell_id": "544c1326bebe4f30931cbf86c213291f",
    "deepnote_cell_type": "code"
   },
   "outputs": [],
   "source": [
    "X_dense = X_dense[idx]"
   ]
  },
  {
   "cell_type": "code",
   "execution_count": 18,
   "metadata": {
    "cell_id": "694e87c4087b4587aeb95e0e867d3523",
    "deepnote_cell_type": "code"
   },
   "outputs": [
    {
     "data": {
      "text/html": [
       "<table>\n",
       "    <tr>\n",
       "        <td>\n",
       "            <table style=\"border-collapse: collapse;\">\n",
       "                <thead>\n",
       "                    <tr>\n",
       "                        <td> </td>\n",
       "                        <th> Array </th>\n",
       "                        <th> Chunk </th>\n",
       "                    </tr>\n",
       "                </thead>\n",
       "                <tbody>\n",
       "                    \n",
       "                    <tr>\n",
       "                        <th> Bytes </th>\n",
       "                        <td> 241.10 GiB </td>\n",
       "                        <td> 143.43 MiB </td>\n",
       "                    </tr>\n",
       "                    \n",
       "                    <tr>\n",
       "                        <th> Shape </th>\n",
       "                        <td> (685071, 47236) </td>\n",
       "                        <td> (398, 47236) </td>\n",
       "                    </tr>\n",
       "                    <tr>\n",
       "                        <th> Dask graph </th>\n",
       "                        <td colspan=\"2\"> 2012 chunks in 5 graph layers </td>\n",
       "                    </tr>\n",
       "                    <tr>\n",
       "                        <th> Data type </th>\n",
       "                        <td colspan=\"2\"> float64 numpy.ndarray </td>\n",
       "                    </tr>\n",
       "                </tbody>\n",
       "            </table>\n",
       "        </td>\n",
       "        <td>\n",
       "        <svg width=\"86\" height=\"170\" style=\"stroke:rgb(0,0,0);stroke-width:1\" >\n",
       "\n",
       "  <!-- Horizontal lines -->\n",
       "  <line x1=\"0\" y1=\"0\" x2=\"36\" y2=\"0\" style=\"stroke-width:2\" />\n",
       "  <line x1=\"0\" y1=\"6\" x2=\"36\" y2=\"6\" />\n",
       "  <line x1=\"0\" y1=\"12\" x2=\"36\" y2=\"12\" />\n",
       "  <line x1=\"0\" y1=\"18\" x2=\"36\" y2=\"18\" />\n",
       "  <line x1=\"0\" y1=\"25\" x2=\"36\" y2=\"25\" />\n",
       "  <line x1=\"0\" y1=\"31\" x2=\"36\" y2=\"31\" />\n",
       "  <line x1=\"0\" y1=\"37\" x2=\"36\" y2=\"37\" />\n",
       "  <line x1=\"0\" y1=\"44\" x2=\"36\" y2=\"44\" />\n",
       "  <line x1=\"0\" y1=\"50\" x2=\"36\" y2=\"50\" />\n",
       "  <line x1=\"0\" y1=\"56\" x2=\"36\" y2=\"56\" />\n",
       "  <line x1=\"0\" y1=\"62\" x2=\"36\" y2=\"62\" />\n",
       "  <line x1=\"0\" y1=\"69\" x2=\"36\" y2=\"69\" />\n",
       "  <line x1=\"0\" y1=\"75\" x2=\"36\" y2=\"75\" />\n",
       "  <line x1=\"0\" y1=\"81\" x2=\"36\" y2=\"81\" />\n",
       "  <line x1=\"0\" y1=\"88\" x2=\"36\" y2=\"88\" />\n",
       "  <line x1=\"0\" y1=\"94\" x2=\"36\" y2=\"94\" />\n",
       "  <line x1=\"0\" y1=\"100\" x2=\"36\" y2=\"100\" />\n",
       "  <line x1=\"0\" y1=\"107\" x2=\"36\" y2=\"107\" />\n",
       "  <line x1=\"0\" y1=\"113\" x2=\"36\" y2=\"113\" />\n",
       "  <line x1=\"0\" y1=\"120\" x2=\"36\" y2=\"120\" style=\"stroke-width:2\" />\n",
       "\n",
       "  <!-- Vertical lines -->\n",
       "  <line x1=\"0\" y1=\"0\" x2=\"0\" y2=\"120\" style=\"stroke-width:2\" />\n",
       "  <line x1=\"36\" y1=\"0\" x2=\"36\" y2=\"120\" style=\"stroke-width:2\" />\n",
       "\n",
       "  <!-- Colored Rectangle -->\n",
       "  <polygon points=\"0.0,0.0 36.449308334469656,0.0 36.449308334469656,120.0 0.0,120.0\" style=\"fill:#8B4903A0;stroke-width:0\"/>\n",
       "\n",
       "  <!-- Text -->\n",
       "  <text x=\"18.224654\" y=\"140.000000\" font-size=\"1.0rem\" font-weight=\"100\" text-anchor=\"middle\" >47236</text>\n",
       "  <text x=\"56.449308\" y=\"60.000000\" font-size=\"1.0rem\" font-weight=\"100\" text-anchor=\"middle\" transform=\"rotate(-90,56.449308,60.000000)\">685071</text>\n",
       "</svg>\n",
       "        </td>\n",
       "    </tr>\n",
       "</table>"
      ],
      "text/plain": [
       "dask.array<getitem, shape=(685071, 47236), dtype=float64, chunksize=(398, 47236), chunktype=numpy.ndarray>"
      ]
     },
     "execution_count": 18,
     "metadata": {},
     "output_type": "execute_result"
    }
   ],
   "source": [
    "X_dense"
   ]
  },
  {
   "cell_type": "markdown",
   "metadata": {
    "cell_id": "8337cf15eae74aaeaf516f5fe19e8115",
    "deepnote_cell_type": "markdown"
   },
   "source": [
    "It should be noted that even in this simplified case standard K-means is not expected to perform particularly well since Euclidian distance is not necessarily a good criteria for sample separation in the resulting very high dimension space. In fact the clusters are separated only by slim margins."
   ]
  },
  {
   "cell_type": "markdown",
   "metadata": {
    "cell_id": "32a36c86723b4c598ce7cc562dac0caf",
    "deepnote_cell_type": "markdown"
   },
   "source": [
    "### Dataset exploration"
   ]
  },
  {
   "cell_type": "markdown",
   "metadata": {
    "cell_id": "d9fdbdeee63748a095ff0739e43b4753",
    "deepnote_cell_type": "markdown"
   },
   "source": [
    "To gain a better understanding of our dataset, we conducted a small dataset exploration. As previously mentioned, our dataset is sparse, with only 0.16% of non-zero values. To explore the distribution of these non-zero values, we first removed the zero values from the dataset and then plotted the results. We also provided a zoomed-in view of the peaked region around 0.05 for closer examination."
   ]
  },
  {
   "cell_type": "code",
   "execution_count": 33,
   "metadata": {
    "cell_id": "5c6b6700949e444b989e6e4b5cf9ebaf",
    "deepnote_cell_type": "code"
   },
   "outputs": [
    {
     "name": "stdout",
     "output_type": "stream",
     "text": [
      "CPU times: user 1.99 s, sys: 513 ms, total: 2.5 s\n",
      "Wall time: 45.2 s\n"
     ]
    },
    {
     "data": {
      "text/plain": [
       "0.973351276937889"
      ]
     },
     "execution_count": 33,
     "metadata": {},
     "output_type": "execute_result"
    }
   ],
   "source": [
    "%%time\n",
    "da.max(X_dense, axis=None).compute()"
   ]
  },
  {
   "cell_type": "code",
   "execution_count": 34,
   "metadata": {
    "cell_id": "c762af0fb3a849699496585389f48bbc",
    "deepnote_cell_type": "code"
   },
   "outputs": [
    {
     "name": "stdout",
     "output_type": "stream",
     "text": [
      "CPU times: user 1.74 s, sys: 628 ms, total: 2.37 s\n",
      "Wall time: 43.8 s\n"
     ]
    },
    {
     "data": {
      "text/plain": [
       "0.0"
      ]
     },
     "execution_count": 34,
     "metadata": {},
     "output_type": "execute_result"
    }
   ],
   "source": [
    "%%time\n",
    "da.min(X_dense, axis=None).compute()"
   ]
  },
  {
   "cell_type": "code",
   "execution_count": 35,
   "metadata": {
    "cell_id": "c1b1f54815404ffea760e59c52cf11b4",
    "deepnote_cell_type": "code"
   },
   "outputs": [],
   "source": [
    "def freq(array):\n",
    "    array = array[np.nonzero(array)]\n",
    "    array_ = array*100\n",
    "    return np.bincount(array_.astype(int).flatten(), minlength=100).reshape(1, 100)\n",
    "\n",
    "freqy = da.map_blocks(freq, X_dense, dtype=\"float64\")"
   ]
  },
  {
   "cell_type": "code",
   "execution_count": 36,
   "metadata": {
    "cell_id": "0a7bb33399754154881cf4dc2d37cc53",
    "deepnote_cell_type": "code"
   },
   "outputs": [
    {
     "name": "stdout",
     "output_type": "stream",
     "text": [
      "CPU times: user 6.22 s, sys: 1.39 s, total: 7.61 s\n",
      "Wall time: 2min 59s\n"
     ]
    }
   ],
   "source": [
    "%%time\n",
    "f = freqy.compute()"
   ]
  },
  {
   "cell_type": "code",
   "execution_count": 37,
   "metadata": {
    "cell_id": "220329da5297405b83b5b489d4c9b21e",
    "deepnote_cell_type": "code"
   },
   "outputs": [],
   "source": [
    "freq = np.sum(f, axis=0)"
   ]
  },
  {
   "cell_type": "code",
   "execution_count": 38,
   "metadata": {
    "cell_id": "e49b6072892b4b2998075cb91b062b9a",
    "deepnote_cell_type": "code"
   },
   "outputs": [],
   "source": [
    "x_plot = list(map(lambda i: i/100, range(1, 101)))"
   ]
  },
  {
   "cell_type": "code",
   "execution_count": 39,
   "metadata": {
    "cell_id": "a94a5e5b91324a81a62b57a6f72235c2",
    "deepnote_cell_type": "code"
   },
   "outputs": [
    {
     "data": {
      "text/plain": [
       "Text(0.5, 1.0, 'Frequencies of non-zero values')"
      ]
     },
     "execution_count": 39,
     "metadata": {},
     "output_type": "execute_result"
    },
    {
     "data": {
      "image/png": "[encoded data removed]",
      "text/plain": [
       "<Figure size 1000x500 with 1 Axes>"
      ]
     },
     "metadata": {},
     "output_type": "display_data"
    }
   ],
   "source": [
    "plt.subplots(figsize=(10, 5))\n",
    "plt.plot(x_plot, freq)\n",
    "plt.grid(alpha=0.2)\n",
    "plt.title(\"Frequencies of non-zero values\")\n",
    "# plt.xticks(x_plot)"
   ]
  },
  {
   "cell_type": "code",
   "execution_count": 40,
   "metadata": {
    "cell_id": "92b7a5774a354d5fae474f373caff982",
    "deepnote_cell_type": "code"
   },
   "outputs": [],
   "source": [
    "def freq_small(array):\n",
    "    array = array[np.nonzero(array)]\n",
    "    array = array[array <= 0.2]\n",
    "    array_ = array*1000\n",
    "    return np.bincount(array_.astype(int).flatten(), minlength=200).reshape(1, 200)\n",
    "\n",
    "freqy_small = da.map_blocks(freq_small, X_dense, dtype=\"float64\")"
   ]
  },
  {
   "cell_type": "code",
   "execution_count": 41,
   "metadata": {
    "cell_id": "8c54985d2d1747fab7d5855070513053",
    "deepnote_cell_type": "code"
   },
   "outputs": [
    {
     "name": "stdout",
     "output_type": "stream",
     "text": [
      "CPU times: user 7.02 s, sys: 874 ms, total: 7.89 s\n",
      "Wall time: 3min 25s\n"
     ]
    }
   ],
   "source": [
    "%%time\n",
    "smally = freqy_small.compute()"
   ]
  },
  {
   "cell_type": "code",
   "execution_count": 42,
   "metadata": {
    "cell_id": "ffcb746f83cd4f14949fb67c076fa116",
    "deepnote_cell_type": "code"
   },
   "outputs": [
    {
     "data": {
      "text/plain": [
       "Text(0.5, 1.0, 'Frequencies of non-zero values between 0 and 0.2')"
      ]
     },
     "execution_count": 42,
     "metadata": {},
     "output_type": "execute_result"
    },
    {
     "data": {
      "image/png": "[encoded data removed]",
      "text/plain": [
       "<Figure size 1000x500 with 1 Axes>"
      ]
     },
     "metadata": {},
     "output_type": "display_data"
    }
   ],
   "source": [
    "freq_small = np.sum(smally, axis=0)\n",
    "x_mini = list(map(lambda i: i/1000, range(1, 201)))\n",
    "plt.subplots(figsize=(10, 5))\n",
    "plt.plot(x_mini, freq_small)\n",
    "plt.grid(alpha=0.2)\n",
    "plt.title(\"Frequencies of non-zero values between 0 and 0.2\")"
   ]
  },
  {
   "cell_type": "markdown",
   "metadata": {
    "cell_id": "55740c8ad6ec4bd3929d7fe1ae309bbf",
    "deepnote_cell_type": "markdown"
   },
   "source": [
    "Furthermore, we have verified the aforementioned normalization of each sample by calculating the norm of each article. As expected, these norms cluster around a value close to 1."
   ]
  },
  {
   "cell_type": "code",
   "execution_count": 15,
   "metadata": {
    "cell_id": "b642886674044c3b80090dfcaf76f82b",
    "deepnote_cell_type": "code"
   },
   "outputs": [],
   "source": [
    "zeros = np.zeros((1,47236))\n",
    "def distance_zero(el):\n",
    "        return np.sum((el[:, np.newaxis] - zeros) ** 2, axis=2).reshape(el.shape[0], zeros.shape[0])\n",
    "norm = da.map_blocks(distance_zero, X_dense, dtype=\"float64\")"
   ]
  },
  {
   "cell_type": "code",
   "execution_count": 16,
   "metadata": {
    "cell_id": "0e0345c6bf3c4f5585d9cde2fffb6591",
    "deepnote_cell_type": "code"
   },
   "outputs": [
    {
     "name": "stdout",
     "output_type": "stream",
     "text": [
      "CPU times: user 1.86 s, sys: 636 ms, total: 2.5 s\n",
      "Wall time: 23.9 s\n"
     ]
    }
   ],
   "source": [
    "%%time\n",
    "norms = norm.compute()"
   ]
  },
  {
   "cell_type": "code",
   "execution_count": 17,
   "metadata": {
    "cell_id": "15f2e9f085ab41f28e706c23ad694d9c",
    "deepnote_cell_type": "code"
   },
   "outputs": [
    {
     "data": {
      "text/plain": [
       "(1.0000000000000047, 0.9999999999999948)"
      ]
     },
     "execution_count": 17,
     "metadata": {},
     "output_type": "execute_result"
    }
   ],
   "source": [
    "np.max(norms), np.min(norms)"
   ]
  },
  {
   "cell_type": "markdown",
   "metadata": {
    "cell_id": "634ddccbfde54a8a87ef3748222a6253",
    "deepnote_cell_type": "markdown"
   },
   "source": [
    "### Silhouette analysis"
   ]
  },
  {
   "cell_type": "markdown",
   "metadata": {
    "cell_id": "396ac9b116c7469f9198797eeefeb0e1",
    "deepnote_cell_type": "markdown"
   },
   "source": [
    "Silhouette analysis can be used to study the separation distance between the resulting clusters. The silhouette plot displays a measure of how close each point in one cluster is to points in the neighboring clusters and thus provides a way to assess parameters like number of clusters visually. This measure has a range of [-1, 1].\n",
    "\n",
    "Silhouette coefficients (as these values are referred to as) near +1 indicate that the sample is far away from the neighboring clusters. A value of 0 indicates that the sample is on or very close to the decision boundary between two neighboring clusters and negative values indicate that those samples might have been assigned to the wrong cluste r."
   ]
  },
  {
   "cell_type": "markdown",
   "metadata": {
    "cell_id": "6ce0eccf4dac4020bdf8cdf4cb55c042",
    "deepnote_cell_type": "markdown"
   },
   "source": [
    "<img src=\"results/silhouette_true_labels2.png\" alt=\"Silhouette plot\">"
   ]
  },
  {
   "cell_type": "markdown",
   "metadata": {
    "cell_id": "35f933821d8347dd999d81fec4fc8cf8",
    "deepnote_cell_type": "markdown"
   },
   "source": [
    "### Metrics"
   ]
  },
  {
   "cell_type": "markdown",
   "metadata": {
    "cell_id": "ab2c06185e5c4f6595a2e2759aeff76e",
    "deepnote_cell_type": "markdown"
   },
   "source": [
    "As has been already stated, our goal emphasizes Dask framework optimization by monitoring execution time and memory usage rather than clustering accuracy. Computation times are therefore recorded, but most importantly Dask provides a useful diagnostic tool in the form of Dashboard, extensively used in this work. In particular all the major computations can be analysed offline by capturing the live dashboard with `performance_report` and are thus integral part of this project's results.\n",
    "\n",
    "We will briefly show the striking difference between the dashboard view of a poorly suited task (The silhouette plot) and a neat execution of an optimezed task(1 iteration of the algorithm)."
   ]
  },
  {
   "cell_type": "markdown",
   "metadata": {
    "cell_id": "57afe9fc816744fb93ca10c575c934c7",
    "deepnote_cell_type": "markdown"
   },
   "source": [
    "<img src=\"images/Terrible_silhouette_dashboard_vs_Good_iteration_b1000_ct1000.png\" alt=\"Silhouette plot\"> "
   ]
  },
  {
   "cell_type": "markdown",
   "metadata": {
    "cell_id": "b5560aa77c9045d4bb711ff673663a2f",
    "deepnote_cell_type": "markdown"
   },
   "source": [
    "Each line-block in these task streams represents a thread. A few things are noteworthy: the mean time of inactivity given by the white horizontal spaces, the loading patterns, in red, such as frequency and the tasks run in parallel (vertically) with the loading. A clever chunk size selection coupled with suitable tasks and functions (e.g. numpy operations) are key to reach the full potential of the available resources. Additionally, erred task, if present, will be visible in black, while memory spilled to disk would be shown in orange.\n",
    "<br>\n",
    "<br>\n",
    "Looking at `performance_report` summary, it is possible to quantify how much the silouhette plot's transfer time is greater than the other one:\n",
    "\n",
    "**Tasks Information**\n",
    "\n",
    "|  | number of tasks | compute time | deserialize time | transfer time |\n",
    "| ---- | --------------- | ------------ | ---------------- | ------------- |\n",
    "| silhouette plot | 35014 | 439.06 s | 219.31 ms | 544.89 s |\n",
    "| 1 iteration Kmeans | 11115 | 429.36 s | 260.81 ms | 30.06 s\n"
   ]
  },
  {
   "cell_type": "markdown",
   "metadata": {
    "cell_id": "1405a67c31234012861bb141c429d92f",
    "deepnote_cell_type": "markdown"
   },
   "source": [
    "## Mini Batch Clustering"
   ]
  },
  {
   "cell_type": "markdown",
   "metadata": {
    "cell_id": "4290c0291bde4872b5ad6340112b717d",
    "deepnote_cell_type": "markdown"
   },
   "source": [
    "### Architecture and Motivations\n",
    "\n",
    "Mini-batch K-Means is a variant of the traditional K-Means clustering algorithm tailored to address the demands of latency, scalability, and sparsity commonly encountered in user-facing web applications. \n",
    "<br> The primary goal of K-means algorithm is to partition a dataset into $k$ clusters. It operates iteratively on a dataset, denoted as $X$, comprising of $n$ examples, each having $m$ features. K-Means utilizes a set $C$ to represent cluster centers, with each center $c_j$ being a point in the same $m$-dimensional feature space ($\\mathbb{R}^m$). The core objective function that Mini-batch K-Means aims to minimize is defined as follows:\n",
    "\n",
    "$$\n",
    "\\min_{C} \\sum_{x \\in X} \\left\\|f(C, x) - x\\right\\|^2\n",
    "$$\n",
    "\n",
    "In this formula:\n",
    "\n",
    "$C$ represents the set of cluster centers, where $\\left|C\\right| = k$.\n",
    "$f(C, x)$ returns the nearest cluster center $c$ belonging to $C$ for a given example $x$, using the Euclidean distance $x$ represents an example within the dataset $X$.\n",
    "<br><br>\n",
    "Unlike the standard K-Means algorithm, in Mini-Batch K-Means, training samples are randomly selected during each iteration to create a minibatch of size $b$. For each sample in the minibatch, the objective function is applied using the current centroids. Subsequently, the assigned centroid is updated, taking into account both the sample and a learning rate that is inversely proportional to the number of points already assigned to that cluster.\n",
    "<br><br>\n",
    "**Architecture**\n",
    "The pseudocode of the algorithm is extracted from the original paper from D. Sculley, [(Sculley, D. (2010). Web-scale k-means clustering)](https://dl.acm.org/doi/10.1145/1772690.1772862): \n",
    "<img src=\"images/minibatchkmeans.png\" alt=\"MiniBatch Kmeans\" width=\"500\" height=\"500\"> "
   ]
  },
  {
   "cell_type": "markdown",
   "metadata": {
    "cell_id": "a0f9c7760f724ca199bb80803af76831",
    "deepnote_cell_type": "markdown"
   },
   "source": [
    "**Inertia**\n",
    "In K-means clustering evaluation, we use a metric called 'inertia,' which is defined as follows:\n",
    "$$\n",
    "\\sum_{j=0}^k\\sum_{i=0}^n min_{c_j \\in C}{\\left\\|x_i - c_j\\right\\|^2}\n",
    "$$\n",
    "Inertia measures how internally cohesive clusters are in a K-means solution. Specifically, it calculates the sum of squared distances between data points (represented by $x_i$ and their respective predicted cluster centers $c_j$).\n",
    "A lower inertia value indicates that the data points within clusters are closer to their cluster centers, suggesting well-defined and tightly grouped clusters. In contrast, a higher inertia value suggests that clusters are more spread out, which can indicate less coherent or poorly separated clusters."
   ]
  },
  {
   "cell_type": "markdown",
   "metadata": {
    "cell_id": "2e71ba9dba34480cbad498722a37fb06",
    "deepnote_cell_type": "markdown"
   },
   "source": [
    "**Minibatch Kmeans initialization**\n",
    "Initialization is a crucial step in the K-means algorithm. When dealing with data that is not uniformly distributed, using a classical uniform distribution can lead to unbalanced clustering. In our case, the majority of the data points are close to $\\sim 0.05$, as showed in \"dataset exploration\" section, then one random cluster initialized using a uniform distribution might end up encompassing most of the data, leaving the other three clusters empty.\n",
    "<br>\n",
    "Instead, we have chosen to follow the recommendation from the paper by Sculley and initialize the clusters using randomly selected samples from the data. Given that the majority of these samples fall within a similar range of values, it is reasonable to assume that the random initialization will not result in one of the four clusters containing uncommon values.\n",
    "<br>\n",
    "This approach not only ensures more balanced clusters but also accelerates the initialization process, which now takes only a few seconds."
   ]
  },
  {
   "cell_type": "markdown",
   "metadata": {
    "cell_id": "138340a9775a4822a788766a4b9b473f",
    "deepnote_cell_type": "markdown"
   },
   "source": [
    "**`Mini_KMeans` class**\n",
    "As previously introduced, we trained the algorithm using various configurations of $(workers, threads, batch size, chunk size)$ to identify the optimal combination in terms of time and efficiency for cluster performance analysis. To facilitate this, our `Mini_KMeans` class and fit mode offer the following parameters:\n",
    "\n",
    "* `n_clusters`, which represents $k$, the number of clusters into which we want to divide our dataset. Due to assumptions made during preprocessing, this value is fixed at 4.\n",
    "* `threshold`, which signifies the minimum difference between the clusters of two consecutive iterations necessary to halt training before reaching the maximum number of iterations.\n",
    "* `max_iter`, representing the maximum number of iterations.\n",
    "* `batch_size`, indicating the chosen minibatch size for the configuration.\n",
    "* `rechunk`, specifying the rechunking applied to the minibatch after its creation. When it is set to `\"auto\"`, Dask is allowed to perform its automathic rechunk, that for an original dataset with `chunksize=400` is equal to 355.\n",
    "* `user_centroids`, a useful parameter allowing the loading of specific centers as initialization centers, particularly useful when training is interrupted due to cluster problems.\n",
    "* `v_user`, similar to user_centroids, it loads a given vector of points (v) for restarting training using a custom learning rate.\n",
    "* `verbose = False`, enabling this parameter allows for the printing of the current iteration progress.\n",
    "* `v_factor = 0.75`: setting the maximum percentage of iteration points (`max_iter * batch_size`) that can be assigned to a single center. This factor was introduced to prevent a random center near zero from absorbing all training points.\n",
    "\n",
    "After each iteration, the total inertia and the iteration time are provided.\n",
    "<br><br>\n",
    "To ensure a coherent comparison of results, we selected a fixed seed for training the algorithm."
   ]
  },
  {
   "cell_type": "code",
   "execution_count": 19,
   "metadata": {
    "cell_id": "4ba8f8b526d8429893e3c1680168c7fb",
    "deepnote_cell_type": "code"
   },
   "outputs": [],
   "source": [
    "# KMEANS FINAL VERSION\n",
    "import time\n",
    "class Mini_KMeans:\n",
    "    def __init__(self, n_clusters=4, threshold=1e-3, max_iter=10000, batch_size=10):\n",
    "        super(Mini_KMeans, self).__init__()\n",
    "        self.n_clusters = n_clusters\n",
    "        self.max_iter = max_iter\n",
    "        self.batch_size = batch_size\n",
    "        self.threshold = threshold\n",
    "    def fit(self, X_train, rechunk=False, user_centroids=None, verbose=False, v_factor = 0.75, v_user = None):\n",
    "        if user_centroids is not None:\n",
    "            self.centroids = user_centroids\n",
    "        else:\n",
    "            start_time = time.time()\n",
    "            \n",
    "            init_indx = np.sort(np.random.choice(X_train.shape[0], size=self.n_clusters, replace=False))\n",
    "            self.centroids = X_train[init_indx,:].compute()\n",
    "            print(f\"done with init, time: {(time.time() - start_time):.{2}f} s\")\n",
    "\n",
    "        # Iterate, adjusting centroids until converged or until passed max_iter\n",
    "        iteration = 0\n",
    "        # collect the number of points per cluster in order to calculate the learning rate\n",
    "        if v_user is not None:\n",
    "            v = v_user\n",
    "        else:\n",
    "            v = np.zeros(self.n_clusters)\n",
    "        max_v = v_factor * self.batch_size * self.max_iter  #to check if one center gets too many counts, k is the maximum fraction of all possible counts\n",
    "        trace_classes = np.zeros(X_train.shape[0])\n",
    "        if verbose: print(\"starting while cycle\")\n",
    "        inertia_diff = self.threshold + 1\n",
    "        times = []\n",
    "        inertias = []\n",
    "        while iteration < self.max_iter and inertia_diff > self.threshold:\n",
    "            start_time = time.time()\n",
    "            \n",
    "            # parallelize this section with dask\n",
    "            indx = np.sort(np.random.choice(X_train.shape[0], size=self.batch_size, replace=False))\n",
    "            # this part is necessary to optimize computation and don't have problems with further functions\n",
    "\n",
    "            # choose between auto rechunk, a custom number of chunks or no rechunk\n",
    "            if rechunk == 'auto':\n",
    "                minibatch = X_train[indx,:].rechunk(chunks=\"auto\")\n",
    "                # print(minibatch.chunksize)\n",
    "                \n",
    "            elif rechunk != False:\n",
    "                minibatch = X_train[indx,:].rechunk((rechunk, X_train.shape[1]))    #rechunk here is number of rows\n",
    "\n",
    "            else:\n",
    "                minibatch = X_train[indx,:]\n",
    "                \n",
    "            dists = da.sum((minibatch[:, np.newaxis] - self.centroids) ** 2, axis=2)\n",
    "            centroid_idx = da.argmin(dists, axis=1)\n",
    "            inertia = (dists.ravel()[centroid_idx + da.arange(0, self.batch_size*self.n_clusters, self.n_clusters)]).sum()\n",
    "            \n",
    "            # end of parallelized section\n",
    "            \n",
    "            # compute all togheter to save a lot of time and parallelize everything\n",
    "            # if the minibatch is small enough, save it in memory\n",
    "            mini_size = 5000\n",
    "            \n",
    "            if self.batch_size <= mini_size:\n",
    "                centroid_idx, inertia, minibatch_t = compute(centroid_idx, inertia, minibatch)\n",
    "            else:\n",
    "                centroid_idx, inertia, minibatch_t = compute(centroid_idx, inertia, minibatch[:mini_size,:])\n",
    "\n",
    "            inertias.append(inertia)\n",
    "            client.cancel(dists)\n",
    "            del dists\n",
    "\n",
    "            if iteration > 0: inertia_diff = np.abs(inertias[iteration-1] - inertia)\n",
    "            \n",
    "            i = 0\n",
    "            if verbose: print(\"starting for cycle\")\n",
    "\n",
    "            for i in range(self.batch_size):\n",
    "                if v[centroid_idx[i]] >= max_v:\n",
    "                    pass\n",
    "                else:\n",
    "                    if (self.batch_size > mini_size) and (i % mini_size == 0) and (i > 0):\n",
    "                        client.cancel(minibatch_t)\n",
    "                        del minibatch_t\n",
    "                        if (self.batch_size - i) < mini_size:\n",
    "                            minibatch_t = minibatch[i:,:].compute()\n",
    "                            print(f\"Compute progress: {i // mini_size + 1}/{self.batch_size//mini_size}\"+\" \"*50, end=\"\\r\", flush=True)\n",
    "                        else:\n",
    "                            minibatch_t = minibatch[i:i+mini_size,:].compute()\n",
    "                            print(f\"Compute progress: {i // mini_size + 1}/{self.batch_size//mini_size}\"+\" \"*50, end=\"\\r\", flush=True)\n",
    "                    v[centroid_idx[i]] += 1\n",
    "                    lr = 1/(v[centroid_idx[i]])\n",
    "                    self.centroids[centroid_idx[i]] = (1 - lr)*self.centroids[centroid_idx[i]] + lr*minibatch_t[i%mini_size]\n",
    "                    trace_classes[indx[i]] = int(centroid_idx[i])\n",
    "\n",
    "            # free workers memory\n",
    "            client.cancel(minibatch_t)\n",
    "            del minibatch_t\n",
    "\n",
    "            t = time.time() - start_time\n",
    "            times.append(t)\n",
    "\n",
    "            print(f\"This iteration took {t:.{2}f} s\")\n",
    "            \n",
    "            iteration += 1\n",
    "            if iteration%1 == 0:\n",
    "                print(f\"Progress: {iteration}/{self.max_iter}, inertia: {inertia:.{3}f}\"+\" \"*50)#, end=\"\\r\", flush=True)\n",
    "\n",
    "            # save centroids every iteration\n",
    "            ftype = \"centr_temp\"\n",
    "            np.savez(\"results/{}\".format(ftype), class_centers=self.centroids, v=v)\n",
    "\n",
    "            #free workers memory\n",
    "            client.cancel(inertia)\n",
    "            client.cancel(centroid_idx)\n",
    "            del inertia, centroid_idx    \n",
    "            \n",
    "        print(f\"The process required {iteration} iterations.\"+\" \"*50)\n",
    "        print(f\"average while cycle computation time: {np.mean(times):.{2}f} s\")\n",
    "        print(f\"final inertia: {inertias[-1]:.{3}f}\")\n",
    "        return self.centroids, trace_classes, inertias, times\n",
    "    def predict(self, X, class_centers, plot = False, save_plot_name=False):\n",
    "    \n",
    "        starting_time = timer()\n",
    "    \n",
    "        dists_list = []\n",
    "        for i in range(len(class_centers)):\n",
    "            dists_list.append(da.sum((X - class_centers[i]) ** 2, axis=1).rechunk(-1))\n",
    "    \n",
    "        dists = da.asarray(dists_list).rechunk((X.shape[0],-1))\n",
    "        centroid_idx = da.argmin(dists, axis=0)\n",
    "        inertia = (dists.ravel()[centroid_idx + da.arange(0, X.shape[0]*self.n_clusters, self.n_clusters)]).sum()\n",
    "    \n",
    "        centroid_idx, inertia = compute(centroid_idx, inertia)\n",
    "        \n",
    "        ending_time = timer()\n",
    "\n",
    "        # silhouette plot\n",
    "        if (plot):\n",
    "            import matplotlib.cm as cm\n",
    "            import matplotlib.pyplot as plt\n",
    "            from sklearn.metrics import silhouette_samples, silhouette_score\n",
    "            \n",
    "            indx = np.random.choice(X.shape[0], size=5000, replace=False)\n",
    "            minibatch = X[indx,:]\n",
    "            silhouette_avg=silhouette_score(minibatch,centroid_idx[indx])\n",
    "            print(f\"The silhouette average is {silhouette_avg}.\")\n",
    "            sample_silhouette_values = silhouette_samples(minibatch, centroid_idx[indx])\n",
    "            \n",
    "            fig, ax1 = plt.subplots()\n",
    "            fig.set_size_inches(12, 5)\n",
    "            ax1.set_xlim([-0.035, 0.035])\n",
    "            ax1.set_ylim([0, len(minibatch) + (4 + 1) * 20])\n",
    "            y_lower = 10\n",
    "            for i in range(4):\n",
    "                ith_cluster_silhouette_values = sample_silhouette_values[centroid_idx[indx] == i]\n",
    "                ith_cluster_silhouette_values.sort()\n",
    "                size_cluster_i = ith_cluster_silhouette_values.shape[0]\n",
    "                y_upper = y_lower + size_cluster_i\n",
    "                color = cm.nipy_spectral(float(i) / 4)\n",
    "                ax1.fill_betweenx(\n",
    "                    np.arange(y_lower, y_upper),\n",
    "                    0,\n",
    "                    ith_cluster_silhouette_values,\n",
    "                    facecolor=color,\n",
    "                    edgecolor=color,\n",
    "                    alpha=0.7,\n",
    "                )\n",
    "            \n",
    "                ax1.text(-0.03, y_lower + 0.5 * size_cluster_i, str(i))\n",
    "                y_lower = y_upper + 10  \n",
    "                ax1.set_title(\"The silhouette plot for the various clusters.\")\n",
    "                ax1.set_xlabel(\"The silhouette coefficient values\")\n",
    "                ax1.set_ylabel(\"Cluster label\")\n",
    "                ax1.axvline(x=silhouette_avg, color=\"red\", linestyle=\"--\")   # average\n",
    "                ax1.set_yticks([])  \n",
    "                ax1.set_xticks([-0.035,-0.025,-0.015,-0.005, 0,0.005,0.015,0.025,0.035])\n",
    "            ax1.text(silhouette_avg +0.0002, 900, \"Average\",color=\"red\",rotation=270)\n",
    "            plt.show()\n",
    "            if (not save_plot_name==False):\n",
    "                plt.savefig(\"results/{}.png\".format(save_plot_name), dpi=300)\n",
    "        \n",
    "        return centroid_idx, inertia, ending_time - starting_time"
   ]
  },
  {
   "cell_type": "markdown",
   "metadata": {},
   "source": [
    "[![DAG example Image](dask_graph_parallel.png)](dask_graph_parallel.png)"
   ]
  },
  {
   "cell_type": "markdown",
   "metadata": {
    "cell_id": "732167cd7842465fbee4f8d63c8a983d",
    "deepnote_cell_type": "markdown"
   },
   "source": [
    "### Toy Example"
   ]
  },
  {
   "cell_type": "markdown",
   "metadata": {
    "cell_id": "10f9227514ee438c856d065d95bc004c",
    "deepnote_cell_type": "markdown"
   },
   "source": [
    "In this section, we provide an toy example of training with the following parameters: `n_workers=3`, `n_threads=4`, `batch_size=1000`, and `rechunk=\"auto\"`. In addition, a `performance_report` toy is returned."
   ]
  },
  {
   "cell_type": "code",
   "execution_count": 20,
   "metadata": {
    "cell_id": "9851e624803144679cddcb5e475cead1",
    "deepnote_cell_type": "code",
    "deepnote_to_be_reexecuted": false,
    "execution_millis": 309,
    "execution_start": 1695059033026,
    "source_hash": null
   },
   "outputs": [
    {
     "name": "stdout",
     "output_type": "stream",
     "text": [
      "done with init, time: 3.60 s\n",
      "This iteration took 9.34 s\n",
      "Progress: 1/50, inertia: 1883.513                                                  \n",
      "This iteration took 10.94 s\n",
      "Progress: 2/50, inertia: 975.866                                                  \n",
      "This iteration took 8.91 s\n",
      "Progress: 3/50, inertia: 972.192                                                  \n",
      "This iteration took 11.71 s\n",
      "Progress: 4/50, inertia: 970.180                                                  \n",
      "This iteration took 9.38 s\n",
      "Progress: 5/50, inertia: 970.144                                                  \n",
      "This iteration took 9.68 s\n",
      "Progress: 6/50, inertia: 968.587                                                  \n",
      "This iteration took 8.93 s\n",
      "Progress: 7/50, inertia: 969.121                                                  \n",
      "This iteration took 8.84 s\n",
      "Progress: 8/50, inertia: 968.385                                                  \n",
      "This iteration took 11.96 s\n",
      "Progress: 9/50, inertia: 969.551                                                  \n",
      "This iteration took 8.66 s\n",
      "Progress: 10/50, inertia: 967.218                                                  \n",
      "This iteration took 9.11 s\n",
      "Progress: 11/50, inertia: 966.578                                                  \n",
      "This iteration took 9.13 s\n",
      "Progress: 12/50, inertia: 967.925                                                  \n",
      "This iteration took 9.08 s\n",
      "Progress: 13/50, inertia: 968.729                                                  \n",
      "This iteration took 10.98 s\n",
      "Progress: 14/50, inertia: 968.397                                                  \n",
      "This iteration took 11.89 s\n",
      "Progress: 15/50, inertia: 966.330                                                  \n",
      "This iteration took 11.47 s\n",
      "Progress: 16/50, inertia: 967.174                                                  \n",
      "This iteration took 9.44 s\n",
      "Progress: 17/50, inertia: 968.177                                                  \n",
      "This iteration took 9.46 s\n",
      "Progress: 18/50, inertia: 966.065                                                  \n",
      "This iteration took 9.49 s\n",
      "Progress: 19/50, inertia: 967.356                                                  \n",
      "This iteration took 9.56 s\n",
      "Progress: 20/50, inertia: 966.947                                                  \n",
      "This iteration took 9.30 s\n",
      "Progress: 21/50, inertia: 963.623                                                  \n",
      "This iteration took 9.53 s\n",
      "Progress: 22/50, inertia: 965.308                                                  \n",
      "This iteration took 9.19 s\n",
      "Progress: 23/50, inertia: 966.180                                                  \n",
      "This iteration took 11.32 s\n",
      "Progress: 24/50, inertia: 964.675                                                  \n",
      "This iteration took 11.84 s\n",
      "Progress: 25/50, inertia: 966.549                                                  \n",
      "This iteration took 9.21 s\n",
      "Progress: 26/50, inertia: 965.789                                                  \n",
      "This iteration took 9.19 s\n",
      "Progress: 27/50, inertia: 963.104                                                  \n",
      "This iteration took 12.23 s\n",
      "Progress: 28/50, inertia: 966.883                                                  \n",
      "This iteration took 9.00 s\n",
      "Progress: 29/50, inertia: 962.439                                                  \n",
      "This iteration took 9.05 s\n",
      "Progress: 30/50, inertia: 965.891                                                  \n",
      "This iteration took 9.30 s\n",
      "Progress: 31/50, inertia: 967.682                                                  \n",
      "This iteration took 11.86 s\n",
      "Progress: 32/50, inertia: 963.764                                                  \n",
      "This iteration took 9.41 s\n",
      "Progress: 33/50, inertia: 964.925                                                  \n",
      "This iteration took 11.72 s\n",
      "Progress: 34/50, inertia: 965.480                                                  \n",
      "This iteration took 8.92 s\n",
      "Progress: 35/50, inertia: 966.326                                                  \n",
      "This iteration took 12.47 s\n",
      "Progress: 36/50, inertia: 965.475                                                  \n",
      "This iteration took 12.04 s\n",
      "Progress: 37/50, inertia: 965.921                                                  \n",
      "This iteration took 9.23 s\n",
      "Progress: 38/50, inertia: 964.976                                                  \n",
      "This iteration took 11.23 s\n",
      "Progress: 39/50, inertia: 965.930                                                  \n",
      "This iteration took 9.23 s\n",
      "Progress: 40/50, inertia: 965.458                                                  \n",
      "This iteration took 9.12 s\n",
      "Progress: 41/50, inertia: 964.239                                                  \n",
      "This iteration took 9.44 s\n",
      "Progress: 42/50, inertia: 965.442                                                  \n",
      "This iteration took 10.94 s\n",
      "Progress: 43/50, inertia: 962.854                                                  \n",
      "This iteration took 11.78 s\n",
      "Progress: 44/50, inertia: 966.201                                                  \n",
      "This iteration took 9.37 s\n",
      "Progress: 45/50, inertia: 963.671                                                  \n",
      "This iteration took 8.89 s\n",
      "Progress: 46/50, inertia: 965.511                                                  \n",
      "This iteration took 9.31 s\n",
      "Progress: 47/50, inertia: 965.423                                                  \n",
      "This iteration took 10.87 s\n",
      "Progress: 48/50, inertia: 964.499                                                  \n",
      "This iteration took 9.18 s\n",
      "Progress: 49/50, inertia: 964.321                                                  \n",
      "This iteration took 11.80 s\n",
      "Progress: 50/50, inertia: 965.634                                                  \n",
      "The process required 50 iterations.                                                  \n",
      "average while cycle computation time: 10.08 s\n",
      "final inertia: 965.634\n",
      "CPU times: user 49.5 s, sys: 30.2 s, total: 1min 19s\n",
      "Wall time: 8min 29s\n"
     ]
    }
   ],
   "source": [
    "%%time\n",
    "seed = 18092023 #144\n",
    "np.random.seed(seed)\n",
    "da.random.seed(seed)\n",
    "# Fit centroids to dataset and save dashboard report\n",
    "with performance_report(filename=\"results/toy_example.html\"):\n",
    "    kmeans = Mini_KMeans(n_clusters=4, threshold=1e-5, max_iter=50, batch_size=1000)\n",
    "    class_centers, classes, inertias, fit_time = kmeans.fit(X_dense, rechunk=\"auto\", user_centroids=None, v_user=None) # fit time is in seconds"
   ]
  },
  {
   "cell_type": "markdown",
   "metadata": {
    "cell_id": "30e101a9db094c869a11966a0c644d6a",
    "deepnote_cell_type": "markdown"
   },
   "source": [
    "As mentioned, we introduced the possibility to save the temporary centroids and v vectors, in order to prevent data loss due to cluster failure. In the following cell we provide an example reloading data."
   ]
  },
  {
   "cell_type": "code",
   "execution_count": null,
   "metadata": {
    "cell_id": "44037979598c404e89fbd7c1b2901eb7",
    "deepnote_cell_type": "code"
   },
   "outputs": [],
   "source": [
    "# load old centers\n",
    "\n",
    "ftype = \"centr_temp\" # string to add in the file name\n",
    "\n",
    "file = \"results/{}.npz\".format(ftype)\n",
    "\n",
    "data = np.load(file) # data is a dictionary with all the variables\n",
    "\n",
    "# load parameters into variables\n",
    "locals().update(data)\n",
    "centroids = data['class_centers']\n",
    "v_saved = data['v']"
   ]
  },
  {
   "cell_type": "markdown",
   "metadata": {
    "cell_id": "26d7c69c169144a7abd464b1443e254a",
    "deepnote_cell_type": "markdown"
   },
   "source": [
    "After the training, the `predict` method from the class is employed to assign to each point of the dataset a class.\n",
    "The function offer the following parameters:\n",
    "* `class_centers`, in order to upload the center predicted by the train\n",
    "* `plot`, which provide the silhouette plot of the predicted labels\n",
    "* `save_plot_name=False`, when enabled, it allows to save the silhouette plot."
   ]
  },
  {
   "cell_type": "code",
   "execution_count": 21,
   "metadata": {
    "cell_id": "5d511885adca436f859c745c1c4d9167",
    "deepnote_cell_type": "code"
   },
   "outputs": [
    {
     "name": "stdout",
     "output_type": "stream",
     "text": [
      "The silhouette average is 0.007387885582450693.\n"
     ]
    },
    {
     "data": {
      "image/png": "[encoded data removed]",
      "text/plain": [
       "<Figure size 1200x500 with 1 Axes>"
      ]
     },
     "metadata": {},
     "output_type": "display_data"
    },
    {
     "name": "stdout",
     "output_type": "stream",
     "text": [
      "CPU times: user 57.7 s, sys: 9.56 s, total: 1min 7s\n",
      "Wall time: 1min 56s\n"
     ]
    }
   ],
   "source": [
    "%%time\n",
    "labels, final_inertia, pred_time = kmeans.predict(X_dense, class_centers, plot=True)"
   ]
  },
  {
   "cell_type": "markdown",
   "metadata": {
    "cell_id": "4fe042894ae84436b49a35fc321a5bc6",
    "deepnote_cell_type": "markdown"
   },
   "source": [
    "As can be seen from the silhouette plot of the predicted labels, even with the weak hypothesis driving our preprocessing, we are still able to achieve a similar structure compared to the true labels plot. Despite it not being our main goal, we will in fact show in the following sections that the accordance reached with the correct labels is close to 50%."
   ]
  },
  {
   "cell_type": "code",
   "execution_count": 22,
   "metadata": {
    "cell_id": "637c17c3086145a89d9f74959c36e23a",
    "deepnote_cell_type": "code"
   },
   "outputs": [
    {
     "name": "stdout",
     "output_type": "stream",
     "text": [
      "0.9989735631425825\n"
     ]
    }
   ],
   "source": [
    "print(final_inertia/len(true_lab))"
   ]
  },
  {
   "cell_type": "markdown",
   "metadata": {
    "cell_id": "af3ec2afdd8449948603ab2705323142",
    "deepnote_cell_type": "markdown"
   },
   "source": [
    "The result of this example are reported in the following plots:"
   ]
  },
  {
   "cell_type": "code",
   "execution_count": 23,
   "metadata": {
    "cell_id": "d632702fbaa843deaebbea50497bc1e2",
    "deepnote_cell_type": "code"
   },
   "outputs": [
    {
     "data": {
      "image/png": "[encoded data removed]",
      "text/plain": [
       "<Figure size 640x480 with 1 Axes>"
      ]
     },
     "metadata": {},
     "output_type": "display_data"
    }
   ],
   "source": [
    "plt.plot(np.array(inertias[1:])/1000, color=\"C1\")\n",
    "plt.xlabel(\"iteration\")\n",
    "plt.ylabel(\"minibatch inertia / minibatch size\")\n",
    "# plt.hlines(final_inertia/X_dense.shape[0], 0, len(inertias))\n",
    "plt.grid(alpha=0.2)\n",
    "plt.show()"
   ]
  },
  {
   "cell_type": "code",
   "execution_count": 24,
   "metadata": {
    "cell_id": "5606f20567604a058fc25009c0cd7d73",
    "deepnote_cell_type": "code"
   },
   "outputs": [
    {
     "data": {
      "image/png": "[encoded data removed]",
      "text/plain": [
       "<Figure size 640x480 with 1 Axes>"
      ]
     },
     "metadata": {},
     "output_type": "display_data"
    }
   ],
   "source": [
    "plt.plot(fit_time)\n",
    "plt.xlabel(\"iteration\")\n",
    "plt.ylabel(\"single iteration time (s)\")\n",
    "plt.grid(alpha=0.2)\n",
    "plt.show()"
   ]
  },
  {
   "cell_type": "code",
   "execution_count": 25,
   "metadata": {
    "cell_id": "3ebcd6807d9d44a0ab99b14da0ae2fda",
    "deepnote_cell_type": "code"
   },
   "outputs": [],
   "source": [
    "freq_pred = np.unique(labels, return_counts=True)[1] / labels.shape[0]\n",
    "freq_true = np.unique(true_lab, return_counts=True)[1] / true_lab.shape[0]"
   ]
  },
  {
   "cell_type": "code",
   "execution_count": 26,
   "metadata": {
    "cell_id": "360ef11a15184191b4d319344ad4a7af",
    "deepnote_cell_type": "code"
   },
   "outputs": [
    {
     "data": {
      "image/png": "[encoded data removed]",
      "text/plain": [
       "<Figure size 640x480 with 2 Axes>"
      ]
     },
     "metadata": {},
     "output_type": "display_data"
    }
   ],
   "source": [
    "fig, ax = plt.subplots(2)\n",
    "ax[0].bar(np.arange(4), freq_true, label=\"True\", color=\"C2\")\n",
    "ax[1].bar(np.arange(4), freq_pred, label=\"Predicted\", color=\"C1\")\n",
    "ax[0].legend()\n",
    "ax[1].legend()\n",
    "plt.show()"
   ]
  },
  {
   "cell_type": "markdown",
   "metadata": {
    "cell_id": "f5fe912db75e4f9698f06650323d553c",
    "deepnote_cell_type": "markdown"
   },
   "source": [
    "The effective correlation between the \"true\" (theoretical) labels we calculated in the prepocessing and the predicted labels are calculated using the function `adjusted_rand_score` from scikit-learn metrics. It allows to evaluate whether two clusters represent the same configuration regardless the order of the labels."
   ]
  },
  {
   "cell_type": "code",
   "execution_count": 27,
   "metadata": {
    "cell_id": "823707c42d46445d84d3076f3d01809a",
    "deepnote_cell_type": "code"
   },
   "outputs": [
    {
     "name": "stdout",
     "output_type": "stream",
     "text": [
      "the correlation is of 45.36%\n"
     ]
    }
   ],
   "source": [
    "from sklearn.metrics.cluster import adjusted_rand_score\n",
    "print(f\"the correlation is of {np.around(adjusted_rand_score(true_lab, labels)*100,2)}%\")"
   ]
  },
  {
   "cell_type": "code",
   "execution_count": 28,
   "metadata": {
    "cell_id": "173d628415274f75b1e70cd5187825b3",
    "deepnote_cell_type": "code"
   },
   "outputs": [
    {
     "name": "stdout",
     "output_type": "stream",
     "text": [
      "the correlation is of 0.0%\n"
     ]
    }
   ],
   "source": [
    "# compare with random labels\n",
    "print(f\"the correlation is of {np.around(adjusted_rand_score(np.random.randint(0, 4, size=len(labels)), labels), 4)*100}%\")"
   ]
  },
  {
   "cell_type": "markdown",
   "metadata": {
    "cell_id": "6099eb564fc344b2963d437e280538d5",
    "deepnote_cell_type": "markdown"
   },
   "source": [
    "In order to compare the results, we have saved the results from each configuration into a npz file. To each of them a specific name has been assigned indicating with $w$ the number of workers employed, $t$ the number of thresholds, $b$ the minibatch size, $cp$ the rechunk applied to the whole dataset and $ct$ the rechunk applied to the minibatch."
   ]
  },
  {
   "cell_type": "code",
   "execution_count": 29,
   "metadata": {
    "cell_id": "9daf150b83d14459a0fdbb27fc14a8e8",
    "deepnote_cell_type": "code"
   },
   "outputs": [],
   "source": [
    "# save results in a npz file\n",
    "ftype = \"w3t3b1000cp400ct1000_toy\"\n",
    "\n",
    "np.savez(\"results/{}\".format(ftype), class_centers=class_centers, inertias=inertias, fit_time=fit_time, labels=labels, final_inertia=final_inertia, pred_time=pred_time)"
   ]
  },
  {
   "cell_type": "markdown",
   "metadata": {
    "cell_id": "b40ce99440a34baab0a3aa4b49c00846",
    "deepnote_cell_type": "markdown"
   },
   "source": [
    "## Results"
   ]
  },
  {
   "cell_type": "markdown",
   "metadata": {
    "cell_id": "fe55bbef18b7499fa68030a77ec54459",
    "deepnote_cell_type": "markdown"
   },
   "source": [
    "### Minibatch size graphs"
   ]
  },
  {
   "cell_type": "markdown",
   "metadata": {
    "cell_id": "13ac9c9360724804bb4662a0cde0f3a2",
    "deepnote_cell_type": "markdown"
   },
   "source": [
    "**Results for testing different batch sizes** <br>\n",
    "parameters: <br>\n",
    "chunk size minibatch: \"auto\" (355), chunk size dataset: 400, n_workers: 3, n_threads: 4 <br>\n",
    "The number of iterations for the various tests were chosen in order to have a total number of data points analyzed by the algorithm similar to the length of the dataset: <br>\n",
    "n iterations * batch_size $\\sim len(dataset) \\sim 700k$ with threshold: 1e-5<br>\n",
    "\n",
    "\n",
    "\n",
    "| file name | batch size | n iter | fit time | inertia fit/batch_size | inertia predict/len(dataset) | adjusted score | notes |\n",
    "| --------- | ---------- | ------ | -------- | ----------- | --------------- | -------------- | --------- |\n",
    "| **w3t4b50cp400ct50** | 50 |  1000 | 1h | 0.9917 | 1.1165 | 0.23% | Few iterations performed due to excessively long execution times\n",
    "| **w3t4b500cp400ct355** | 500 |  1400 | 3h | 0.981 | 1.0192 | 43.52% | cluster died after 400 iters\n",
    "| **w3t4b1000cp400ct355** | 1000 | 700 | 2h | 0.9815 | 1.0067 | 52.22% |\n",
    "| **w3t4b5000cp400ct355** | 5000 | 140 | 49 min | 0.9810  |1.0031  | 47.4%   |\n",
    "| **w3t4b10000cp400ct355** | 10000 | 70 | 42 min | 0.9804  |1.0106  |49.24%  |cluster died after 55 iters \n",
    "| **w3t4b50000cp400ct355** | 50000 | 14 | 23 min | 0.9809 | 1.0069 | 48.36% | cluster died 2 times\n",
    "| **w3t4b100000cp400ct355** | 100000 | 7 | 30 min | 0.9810 | 1.0063 | 48.19% | cluster died almost after every iteration"
   ]
  },
  {
   "cell_type": "code",
   "execution_count": 30,
   "metadata": {
    "cell_id": "c5653159a08d4b2fad7f6d8d25c0a95f",
    "deepnote_cell_type": "code",
    "deepnote_to_be_reexecuted": false,
    "execution_millis": 1081,
    "execution_start": 1695060976356,
    "source_hash": null
   },
   "outputs": [],
   "source": [
    "# load old data\n",
    "x = [50, 500, 1000, 5000, 10000, 50000, 100000]\n",
    "fit_inertia = []\n",
    "time_per_iter = []\n",
    "fit_predict = []\n",
    "adjust_score = []\n",
    "for i, el in enumerate(x):\n",
    "    ftype = el # string to add in the file name\n",
    "    if i == 0:\n",
    "        file = \"results/w3t4b{}cp400ct50.npz\".format(ftype)\n",
    "        data = np.load(file) # data is a dictionary with all the variables\n",
    "        locals().update(data)\n",
    "        fit_inertia.append(data[\"inertias\"][-1]/el)\n",
    "        time_per_iter.append(data[\"fit_time\"].mean())\n",
    "        fit_predict.append(data[\"final_inertia\"]/len(true_labels))\n",
    "        adjust_score.append(np.around(adjusted_rand_score(true_lab, data[\"labels\"])*100,2))\n",
    "    else:\n",
    "        file = \"results/w3t4b{}cp400ct355.npz\".format(ftype)\n",
    "        data = np.load(file) # data is a dictionary with all the variables\n",
    "        locals().update(data)\n",
    "        fit_inertia.append(data[\"inertias\"][-1]/el)\n",
    "        time_per_iter.append(data[\"fit_time\"].mean())\n",
    "        fit_predict.append(data[\"final_inertia\"]/len(true_labels))\n",
    "        adjust_score.append(np.around(adjusted_rand_score(true_lab, data[\"labels\"])*100,2))"
   ]
  },
  {
   "cell_type": "code",
   "execution_count": 31,
   "metadata": {
    "cell_id": "e9511a3d533d44abb917681da43164c5",
    "deepnote_cell_type": "code",
    "deepnote_to_be_reexecuted": false,
    "execution_millis": 704,
    "execution_start": 1695060981211,
    "source_hash": null
   },
   "outputs": [
    {
     "data": {
      "image/png": "[encoded data removed]",
      "text/plain": [
       "<Figure size 1400x300 with 2 Axes>"
      ]
     },
     "metadata": {},
     "output_type": "display_data"
    }
   ],
   "source": [
    "fig, ax = plt.subplots(1, 2, sharex=False, sharey=False, figsize=(14, 3))\n",
    "\n",
    "x_plot = [\"50\", \"500\", \"1000\", \"5000\", \"10000\", \"50000\", \"100000\"]\n",
    "\n",
    "ax[0].plot(x_plot, fit_inertia, marker=\"o\", c=\"C0\", linewidth=0.5)\n",
    "ax[1].plot(x_plot, fit_predict, marker=\"o\", c=\"C1\", linewidth=0.5)\n",
    "ax[0].set_xlabel(\"batch size\", fontsize=\"x-large\")\n",
    "ax[1].set_xlabel(\"batch size\", fontsize=\"x-large\")\n",
    "ax[0].set_ylabel(\"inertia/batch size\", fontsize=\"x-large\")\n",
    "ax[0].set_title(\"Minibatch inertia\")\n",
    "ax[1].set_title(\"Dataset inertia\")\n",
    "ax[0].grid(alpha=0.2)\n",
    "ax[1].grid(alpha=0.2)\n",
    "plt.show()"
   ]
  },
  {
   "cell_type": "markdown",
   "metadata": {
    "cell_id": "9e6e4b053f2a48e2905c43532cd00094",
    "deepnote_cell_type": "markdown"
   },
   "source": [
    "Except for the 50-rows minibatch, which would require a much higher number of iterations (and hours of execution); for the other cases, having done a number of iterations such as to keep the product `n_iterations` * `batch_size` almost constant, the inertia value is similar."
   ]
  },
  {
   "cell_type": "code",
   "execution_count": 32,
   "metadata": {
    "cell_id": "3a6dde34ab88403aa21da66ff10480e8",
    "deepnote_cell_type": "code",
    "deepnote_to_be_reexecuted": false,
    "execution_millis": 422,
    "execution_start": 1695060909305,
    "source_hash": null
   },
   "outputs": [
    {
     "data": {
      "image/png": "[encoded data removed]",
      "text/plain": [
       "<Figure size 640x480 with 1 Axes>"
      ]
     },
     "metadata": {},
     "output_type": "display_data"
    }
   ],
   "source": [
    "plt.plot(x_plot, time_per_iter, marker=\"o\", c=\"C0\", linewidth=0.5)\n",
    "plt.xlabel(\"batch size\")\n",
    "plt.ylabel(\"time/iteration (s)\")\n",
    "plt.title(\"Single iteration time\")\n",
    "plt.grid(alpha=0.2)"
   ]
  },
  {
   "cell_type": "markdown",
   "metadata": {
    "cell_id": "befc574d7f624d96a6edd3d8c1b62395",
    "deepnote_cell_type": "markdown"
   },
   "source": [
    "As expected, the average execution time per iteration rises with the increase in batch size.\n",
    "Furthermore, for batches ranging from 10,000 and above the time increases further due to the fact that we cannot do a single computation on the entire minibatch but must first divide it into smaller parts.\n"
   ]
  },
  {
   "cell_type": "code",
   "execution_count": 33,
   "metadata": {
    "cell_id": "821a3d6a6f014863b0869bd64102fa35",
    "deepnote_cell_type": "code",
    "deepnote_to_be_reexecuted": false,
    "execution_millis": 413,
    "execution_start": 1695060952745,
    "source_hash": null
   },
   "outputs": [
    {
     "data": {
      "image/png": "[encoded data removed]",
      "text/plain": [
       "<Figure size 640x480 with 1 Axes>"
      ]
     },
     "metadata": {},
     "output_type": "display_data"
    }
   ],
   "source": [
    "plt.plot(x_plot, adjust_score, marker=\"o\", c=\"C0\", linewidth=0.5)\n",
    "plt.xlabel(\"batch size\")\n",
    "plt.ylabel(\"accord with theoretical labels (%)\")\n",
    "plt.title(\"Adjusted scores for predicted labels\")\n",
    "plt.grid(alpha=0.2)"
   ]
  },
  {
   "cell_type": "markdown",
   "metadata": {
    "cell_id": "cf0d716c0a7b47e39bd3034b5871c15c",
    "deepnote_cell_type": "markdown"
   },
   "source": [
    "The adjusted score also shows similar values for the various runs (except for the 50 rows minibatch)."
   ]
  },
  {
   "cell_type": "markdown",
   "metadata": {
    "cell_id": "08c2a6cb976243c9846e5d8baa7c95d9",
    "deepnote_cell_type": "markdown"
   },
   "source": [
    "Considering the total execution time, the reliability of the runs performed and the inertia and score parameters, we can state that the values in the middle for the minibatch size (1'000, 5'000 and 10'000 rows) are the best. This is because with smaller minibatches too many iterations are required, and therefore very long execution times are needed to obtain good results. For very large minibatches, however, the cluster struggles to manage them and tends to die frequently, making the algorithm's reliability questionable."
   ]
  },
  {
   "cell_type": "markdown",
   "metadata": {
    "cell_id": "6c268e6ffa8c4e9d92f131b7a9978442",
    "deepnote_cell_type": "markdown"
   },
   "source": [
    "### Minibatch and predict rechunk graphs"
   ]
  },
  {
   "cell_type": "markdown",
   "metadata": {
    "cell_id": "190b221db7244aa0888de27efdaea461",
    "deepnote_cell_type": "markdown"
   },
   "source": [
    "Now, we experiment with various minibatch rechunk values for the three configurations that performed the best in the prior tests."
   ]
  },
  {
   "cell_type": "markdown",
   "metadata": {
    "cell_id": "270c69d8fe98439e8e6fec051948d717",
    "deepnote_cell_type": "markdown"
   },
   "source": [
    "**Results for testing different batch rechunks** <br>\n",
    "parameters: <br>\n",
    "chunk size dataset: 400, n_workers: 3, n_threads: 4 <br>\n",
    "Same principle as the previous tests for choosing the number of iterations<br>\n",
    "\n",
    "| file name | batch chunk size | batch size | n iter | fit time | inertia fit/batch_size | inertia predict/len(dataset) | adjusted score | notes |\n",
    "| --------- |  ---- |---------- | ------ | -------- | ----------- | --------------- | -------------- | --------- |\n",
    "| **w3t4b1000cp400ct50** | 50 | 1000 | 700 | 2h 5min | 0.9815 | 1.0067 | 52.22% |  |\n",
    "| **w3t4b1000cp400ct355** | 355 | 1000 | 700 | 2h | 0.9815 | 1.0067 | 52.22% |  |\n",
    "| **w3t4b1000cp400ct1000** | 1000 | 1000 | 700 | 2h 3min | 0.9815 | 1.0067 | 52.22% |  |\n",
    "| **w3t4b5000cp400ct50** | 50 | 5000 | 140 | 65 min | 0.9803 | 1.0149 | 43.76% | cluster died 2 times |\n",
    "| **w3t4b5000cp400ct355** | 355 | 5000 | 140 | 49 min | 0.9810  | 1.0031  | 47.4%   |  |\n",
    "| **w3t4b5000cp400ct1000** | 1000 | 5000 | 140 | 47 min |  0.9809  | 1.0129  | 47.22% | cluster died after 103 iter |\n",
    "| **w3t4b10000cp400ct50** | 50 | 10000 | 70 | 65 min | 0.9801  | 1.0123 | 42.71% | cluster died every 10 iterations |\n",
    "| **w3t4b10000cp400ct355** | 355 | 10000 | 70 | 42 min | 0.9804  | 1.0106 | 49.24%  | cluster died after 55 iters |\n",
    "| **w3t4b10000cp400ct1000** | 1000 | 10000 | 70 | 42 min | 0.9812 | 1.0008 | 45.86% | crushed after 30 iterations |"
   ]
  },
  {
   "cell_type": "code",
   "execution_count": 34,
   "metadata": {
    "cell_id": "98184c9f37814702b54912bdbd6e2b2c",
    "deepnote_cell_type": "code",
    "deepnote_to_be_reexecuted": false,
    "execution_millis": 1470,
    "execution_start": 1695048657806,
    "source_hash": null
   },
   "outputs": [],
   "source": [
    "# load old data\n",
    "ct_list = [50, 355, 1000]\n",
    "b_list = [1000, 5000, 10000]\n",
    "\n",
    "fit_inertia = []\n",
    "time_per_iter = []\n",
    "fit_predict = []\n",
    "adjust_score = []\n",
    "x_plot = []\n",
    "\n",
    "for b in b_list:\n",
    "    for ct in ct_list:\n",
    "        file = \"results/w3t4b{}cp400ct{}.npz\".format(b, ct)\n",
    "        data = np.load(file) # data is a dictionary with all the variables\n",
    "        locals().update(data)\n",
    "        fit_inertia.append(data[\"inertias\"][-1]/b)\n",
    "        time_per_iter.append(data[\"fit_time\"].mean())\n",
    "        fit_predict.append(data[\"final_inertia\"]/len(true_labels))\n",
    "        adjust_score.append(np.around(adjusted_rand_score(true_lab, data[\"labels\"])*100,2))\n",
    "        x_plot.append(f\"{b}, {ct}\")"
   ]
  },
  {
   "cell_type": "code",
   "execution_count": 35,
   "metadata": {
    "cell_id": "4434c5ee2e154d65a9d81bc4e06758ba",
    "deepnote_cell_type": "code",
    "deepnote_to_be_reexecuted": false,
    "execution_millis": 1382,
    "execution_start": 1695048662702,
    "source_hash": null
   },
   "outputs": [
    {
     "data": {
      "image/png": "[encoded data removed]",
      "text/plain": [
       "<Figure size 1400x500 with 6 Axes>"
      ]
     },
     "metadata": {},
     "output_type": "display_data"
    }
   ],
   "source": [
    "fig, ax = plt.subplots(2, 3, sharex=True, sharey=False, figsize=(14, 5))\n",
    "\n",
    "ct_char = [f\"{c}\" for c in ct_list]\n",
    "\n",
    "for i in range(3):\n",
    "    ax[0][i].plot(ct_char, time_per_iter[3*i:3*i+3], marker=\"o\", c=\"C1\", linewidth=0.5)\n",
    "    ax[1][i].plot(ct_char, adjust_score[3*i:3*i+3], marker=\"o\", c=\"C0\", linewidth=0.5)\n",
    "    ax[1][i].set_xlabel(\"rechunk size\", fontsize=\"x-large\")\n",
    "    ax[0][i].set_title(f\"batch size {b_list[i]}\", fontsize=\"x-large\")\n",
    "    ax[0][i].grid(alpha=0.2)\n",
    "    ax[1][i].grid(alpha=0.2)\n",
    "    \n",
    "ax[0][0].set_ylabel(\"time/iter (s)\", fontsize=\"x-large\")\n",
    "ax[1][0].set_ylabel(\"adj rand score (%)\", fontsize=\"x-large\")\n",
    "    \n",
    "plt.tight_layout()\n",
    "plt.show()"
   ]
  },
  {
   "cell_type": "markdown",
   "metadata": {
    "cell_id": "da7cfe2ce3544538b02cf7c50018e627",
    "deepnote_cell_type": "markdown"
   },
   "source": [
    "Dask dashboard for an iteration of the algorithm with a 5000 rows minibatch with a rechunk of 50 (left) and 1000 (right) rows:"
   ]
  },
  {
   "cell_type": "markdown",
   "metadata": {
    "cell_id": "9b08702ea5f84d28b8cca02a4eef9355",
    "deepnote_cell_type": "markdown"
   },
   "source": [
    "<img src=\"images/rechunk_50_vs_1000.png\" alt=\"rechunk\">"
   ]
  },
  {
   "cell_type": "markdown",
   "metadata": {
    "cell_id": "7b81c3bd8dbe43f39f0b58e4022f3b95",
    "deepnote_cell_type": "markdown"
   },
   "source": [
    "Looking at the times and scores we notice a clear improvement going from a small rechunk of 50 rows to a larger one, while between those of 355 and 1000 rows there are no huge differences. From this we can deduce that a rechunk that creates too many small partitions is inefficient.\n",
    "Looking at the dask dashboard we can see that with the rechunk of 50 rows there are many more data transfers between workers which cause slowdowns compared to the 1000 rows rechunk.\n",
    "Finally, if we compare the 355 and 1000 rechunks we see that, in terms of execution times, the 355 one is better for a smaller minibatch (1000) while for larger minibatches they obtain very similar times."
   ]
  },
  {
   "cell_type": "markdown",
   "metadata": {
    "cell_id": "05fbd4756c35417b94c5e77a4f8a2e1b",
    "deepnote_cell_type": "markdown"
   },
   "source": [
    "A parallel inspection can now be carried on the possible rechunk sizes for the predict. Since it must act on all the data to make the final label predictions, the rechunk sizes involved are applied to the whole dataset. "
   ]
  },
  {
   "cell_type": "markdown",
   "metadata": {
    "cell_id": "4be5dd6c00d048678155b84dfb0a22ac",
    "deepnote_cell_type": "markdown"
   },
   "source": [
    "**Results for testing different dataset chunk sizes** <br>\n",
    "parameters: <br>\n",
    "batch chunk size: 355, n_workers: 3, n_threads: 4 <br>\n",
    "Same principle as the previous tests for choosing the number of iterations<br>\n",
    "\n",
    "| file name | pred chunk size | batch size | pred time  | notes |\n",
    "| --------- |  ---- |---------- |  -------- |  --------- |\n",
    "| **w3t4b1000cp400ct355_PRED** | 400 | 1000 | 1 min 4s |   |\n",
    "| **w3t4b1000cp200ct355_PRED** | 200 | 1000 | 1 min 26s  |   |\n",
    "| **w3t4b1000cp800ct355_PRED** | 800 | 1000 | 2 min 37s | limit: dashboard shows one worker left multiple times + memory spilled to disk   |\n",
    "| **w3t4b1000cp600ct355_PRED** | 600 | 1000 | 2 min 33s  | worker left ++  | \n",
    "| **w3t4b1000cp50ct355_PRED** | 50 | 1000 |7min 29s |  worker left ++ | "
   ]
  },
  {
   "cell_type": "code",
   "execution_count": 36,
   "metadata": {
    "cell_id": "676ab101072d4fadaef76b6f866fbe23",
    "deepnote_cell_type": "code",
    "deepnote_to_be_reexecuted": false,
    "execution_millis": 84,
    "execution_start": 1695065609358,
    "source_hash": "d245d00d"
   },
   "outputs": [],
   "source": [
    "# load old data\n",
    "cp_list = [50, 200, 400, 600, 800]\n",
    "\n",
    "\n",
    "pred_time_l = []\n",
    "x_plot = []\n",
    "\n",
    "\n",
    "for _ in cp_list:\n",
    "    file = \"results/w3t4b1000cp{}ct355_PRED.npz\".format(_)\n",
    "    data = np.load(file) # data is a dictionary with all the variables\n",
    "    locals().update(data)\n",
    "    pred_time_l.append(data[\"pred_time\"])\n",
    "    x_plot.append(f\"{_}\")"
   ]
  },
  {
   "cell_type": "code",
   "execution_count": 37,
   "metadata": {
    "cell_id": "cc235f15eaf54306b4dbc73585f67814",
    "deepnote_cell_type": "code",
    "deepnote_to_be_reexecuted": false,
    "execution_millis": 350,
    "execution_start": 1695065633297,
    "source_hash": "ccf2adf2"
   },
   "outputs": [
    {
     "data": {
      "image/png": "[encoded data removed]",
      "text/plain": [
       "<Figure size 640x480 with 1 Axes>"
      ]
     },
     "metadata": {},
     "output_type": "display_data"
    }
   ],
   "source": [
    "plt.plot(x_plot, pred_time_l, marker=\"o\", c=\"C0\", linewidth=0.5)\n",
    "plt.xlabel(\"X chunk size\")\n",
    "plt.ylabel(\"Predict time\")\n",
    "plt.title(\"Chunk size vs predict time\")\n",
    "plt.xticks(rotation=45)\n",
    "plt.grid(alpha=0.2)\n",
    "worker_death_region = [int(x) >= 400 for x in x_plot]\n",
    "plt.fill_between(x_plot, 400, where=worker_death_region, color='red', alpha=0.2, label='Worker Death Region')\n",
    "\n",
    "# Add a legend to explain the shaded region\n",
    "plt.legend()\n",
    "plt.show()"
   ]
  },
  {
   "cell_type": "markdown",
   "metadata": {
    "cell_id": "667b1e6b96bb4fa281538e277687a147",
    "deepnote_cell_type": "markdown"
   },
   "source": [
    "Once again the influence of the chunksize, this time in regards to the entire dataset entering in the predict, is impossible to overstate. Above a certain optimal threshold the workers encounter multiple sudden deaths because the required memry allocation is to great. On the other hand tiny chunksizes are detrimental to performance since the schedular overhead becomes a prominent issue, coupled with inefficient data transfering.\n",
    "\n",
    "Below lies a graphical examplification of the discussed paradigma between the extreme ends: lowest (practically) seizable chunksize for the dataset of 50 and the optimal value of 400. This chart covers aproximately 1 min which is enough for total completition of the latter, but only 1/7 of the former. In particular the extract shows 2 separate regions with different issues in the task stream with chunksize of 50 (LEFT): the first region involves getting the item, that is the whole dataset array, in small chunks and thus is overhead dominated, whereas in the second region the actual computation starts, albeit with strong inefficience visible by the frequent overlapping (red) data transfers. "
   ]
  },
  {
   "cell_type": "markdown",
   "metadata": {
    "cell_id": "22d43a1ee57143e8a8a46596c142e7e7",
    "deepnote_cell_type": "markdown"
   },
   "source": [
    "<img src=\"images/cp50_PRED_vs_cp400.png\" alt=\"Silhouette plot\">"
   ]
  },
  {
   "cell_type": "markdown",
   "metadata": {
    "cell_id": "008f0c4fe12045f9b28459b746297132",
    "deepnote_cell_type": "markdown"
   },
   "source": [
    "### Number of workers graphs"
   ]
  },
  {
   "cell_type": "markdown",
   "metadata": {
    "cell_id": "a192a53bd3f94c41bd8a97d33ec16b14",
    "deepnote_cell_type": "markdown"
   },
   "source": [
    "**results for testing different numbers of workers and threads** <br>\n",
    "parameters: <br>\n",
    "chunk size dataset: 400, minibatch size: 1000, minibatch rechunk: 1000\n",
    "Reduced number of iterations since we are only interested in the average times of a single iteration<br>\n",
    "\n",
    "| file name | nworkers | nthreads | n iter | fit time | predict time | inertia fit/batch_size | inertia predict/len(dataset) | adjusted score | notes |\n",
    "| --------- |  ---- |---------- | ------ | -------- | ----------- | --- | --------------- | -------------- | --------- |\n",
    "| **w1t4b1000cp400ct1000** | 1 | 4 | 7 | 1min 43s | 2min 8s | 0.9843 | 0.9963 | 26.65% |  |\n",
    "| **w2t4b1000cp400ct1000** | 2 | 4 | 7 | 1min 40s | 1min 38s | 0.9843 | 0.9963 | 26.65% |  |1min 24s\n",
    "| **w3t2b1000cp400ct1000** | 3 | 1 | 7 | | | | | | unable to finish: cluster dies\n",
    "| **w3t2b1000cp400ct1000** | 3 | 2 | 7 | 1min 30s | 1min 31s | 0.9843 | 0.9963 | 26.65%\n",
    "| **w3t3b1000cp400ct1000** | 3 | 3 | 7 | 1min 16s | 1min 7s | 0.9843 | 0.9963 | 26.65%\n",
    "| **w3t4b1000cp400ct1000_7iter** | 3 | 4 | 7 | 1min 18s | 1min 9s | 0.9843 | 0.9963 | 26.65% |  |\n",
    "| **w6t4b1000cp400ct1000** | 6 | 4 | 7 | 1min 24s | 1min 6s | 0.9843 | 0.9963 | 26.65% |  |\n",
    "| **w9t4b1000cp400ct1000** | 9 | 4 | 7 | 1min 43s | 1min 44s | 0.9843 | 0.9963 | 26.65% |  |"
   ]
  },
  {
   "cell_type": "code",
   "execution_count": 38,
   "metadata": {
    "cell_id": "f8f3feb80fa74937b385fc84eccac692",
    "deepnote_cell_type": "code",
    "deepnote_to_be_reexecuted": false,
    "execution_millis": 81,
    "execution_start": 1695048882791,
    "source_hash": null
   },
   "outputs": [],
   "source": [
    "# load old data\n",
    "w_list = [1, 2, 3, 6, 9]\n",
    "extra_char = [\"\", \"\", \"_7iter\", \"\", \"\"]\n",
    "\n",
    "time_per_iter_worker = []\n",
    "x_plot = [f\"{w}\" for w in w_list]\n",
    "\n",
    "for i, w in enumerate(w_list):\n",
    "    file = \"results/w{}t4b1000cp400ct1000{}.npz\".format(w, extra_char[i])\n",
    "    data = np.load(file) # data is a dictionary with all the variables\n",
    "    locals().update(data)\n",
    "    time_per_iter_worker.append(data[\"fit_time\"].mean())"
   ]
  },
  {
   "cell_type": "code",
   "execution_count": 39,
   "metadata": {
    "cell_id": "80ef75ae3ebd49ada287dc6da9f56abd",
    "deepnote_cell_type": "code",
    "deepnote_to_be_reexecuted": false,
    "execution_millis": 100,
    "execution_start": 1695048895545,
    "source_hash": null
   },
   "outputs": [],
   "source": [
    "t_list = np.arange(2,5)\n",
    "extra_char = [\"\", \"\", \"_7iter\"]\n",
    "\n",
    "time_per_iter_th = []\n",
    "\n",
    "for i, t in enumerate(t_list):\n",
    "    file = \"results/w3t{}b1000cp400ct1000{}.npz\".format(t, extra_char[i])\n",
    "    data = np.load(file) # data is a dictionary with all the variables\n",
    "    locals().update(data)\n",
    "    time_per_iter_th.append(data[\"fit_time\"].mean())"
   ]
  },
  {
   "cell_type": "code",
   "execution_count": 40,
   "metadata": {
    "cell_id": "de4ae2468cf74b12b326d33235a22fdb",
    "deepnote_cell_type": "code",
    "deepnote_to_be_reexecuted": false,
    "execution_millis": 416,
    "execution_start": 1695048910214,
    "source_hash": null
   },
   "outputs": [
    {
     "data": {
      "image/png": "[encoded data removed]",
      "text/plain": [
       "<Figure size 1400x300 with 2 Axes>"
      ]
     },
     "metadata": {},
     "output_type": "display_data"
    }
   ],
   "source": [
    "fig, ax = plt.subplots(1, 2, sharex=False, sharey=False, figsize=(14, 3))\n",
    "\n",
    "t_char = [f\"{t}\" for t in t_list]\n",
    "\n",
    "ax[0].plot(x_plot, time_per_iter_worker, marker=\"o\", linewidth=0.5)\n",
    "ax[1].plot(t_char, time_per_iter_th, marker=\"o\", linewidth=0.5)\n",
    "ax[0].set_xlabel(\"Number of workers\", fontsize=\"x-large\")\n",
    "ax[1].set_xlabel(\"Number of threads\", fontsize=\"x-large\")\n",
    "ax[0].set_ylabel(\"time/iteration (s)\", fontsize=\"x-large\")\n",
    "plt.show()"
   ]
  },
  {
   "cell_type": "markdown",
   "metadata": {
    "cell_id": "511744aa08e449759a790a8371c38f7e",
    "deepnote_cell_type": "markdown"
   },
   "source": [
    "Dask dashboard for an iteration of the algorithm with a 1000 rows minibatch with 1, 2, 3, 6 and 9 workers:"
   ]
  },
  {
   "cell_type": "markdown",
   "metadata": {
    "cell_id": "4e9e05bec35741d085b6544fd668e7cc",
    "deepnote_cell_type": "markdown"
   },
   "source": [
    "<img src=\"images/nworkers.png\" alt=\"rechunk\">"
   ]
  },
  {
   "cell_type": "markdown",
   "metadata": {
    "cell_id": "12ce7064424b4f0ba6bebf530c1a3134",
    "deepnote_cell_type": "markdown"
   },
   "source": [
    "Comparing the times as the number of workers varies, we notice that the best configuration is the one with 3 workers.\n",
    "This is because, as can also be seen from the dashboards, by increasing the number of workers we have an advantage given by the parallelization of the tasks and a disadvantage given by the increase in the volume of data to be transferred.\n",
    "In the configuration with 3 workers we find a balance between these 2 conditions while with 6 and 9 workers the transfer times slow everything down excessively, and we notice that many of the workers remain inactive throughout the initial part. Furthermore, it must be considered that resources are limited, so as the number of workers increases, each of them will have less resources at their disposal.\n",
    "\n",
    "It is also interesting to see how execution times change when the number of threads per worker varies.\n",
    "If the computations are mostly numeric in nature (for example NumPy computations) and release the *Global interpreter lock* (GIL) entirely then it is advisable to run dask worker processes with many threads. This reduces communication costs and generally simplifies deployment.\n",
    "If the computations are mostly Python code and don’t release the GIL then it is advisable to run dask worker processes with one thread.\n",
    "\n",
    "In our case we mainly work with numpy functions, so it is convenient to use a high number of threads, but since we also use Python code for cycles and lists in our algorithm, we still have limitations. The best times are in fact those with 3 threads per worker, followed by those with 4, while configurations with only 2 threads are the worst. Furthermore, the runs we tried with a single thread killed the cluster and failed to finish."
   ]
  },
  {
   "cell_type": "markdown",
   "metadata": {
    "cell_id": "d2c6607a6ffe4365a089276f74fc5536",
    "deepnote_cell_type": "markdown"
   },
   "source": [
    "### Is the Euclidean Distance the best objective function for RCV1 dataset?"
   ]
  },
  {
   "cell_type": "markdown",
   "metadata": {
    "cell_id": "3828d42950c442ed8aac7c5ca2d586eb",
    "deepnote_cell_type": "markdown"
   },
   "source": [
    "As mentioned earlier, our dataset comprises approximately $685k$ articles and around $47k$ features. Each feature has been normalized to a value within the range of $x \\in [0,1]$, as it was derived from log TF-IDF using cosine normalization. Given this, it seems reasonable to consider evaluating the similarity between samples in a cluster using cosine similarity instead of the Euclidean distance. The formula for cosine similarity is as follows:\n",
    "\n",
    "$$\n",
    "similarity_j = max_{\\{c\\}} \\frac{\\sum_i^m X_{ij}*c_i}{\\sqrt{\\sum_i^m X_i^2}\\cdot \\sqrt{\\sum_i^m c_i^2}}\n",
    "$$\n",
    "where $m$ represents the number of features, X is the j-esim article and c is the cluster that maximize the cosine similarity for the article. \n",
    "<br><br>\n",
    "Here, $m$ represents the number of features, $X_j$ is the j-th article and $c$ is the cluster that maximizes the cosine similarity for the article.\n",
    "\n",
    "The following class is almost identical to the MiniBatch K-means class, with this new distance metric implemented. Consequently, it introduces a new inertia measure, which is the squared sum of these similarities. In contrast to the previous inertia measure, which was optimized to be small, now a larger inertia indicates better results.\n",
    "\n",
    "The objective of this final experiment is to evaluate whether it's possible to achieve similar or improved results using this more appropriate distance metric and to compare the outcomes with those obtained from classical MiniBatch K-means."
   ]
  },
  {
   "cell_type": "code",
   "execution_count": 41,
   "metadata": {
    "cell_id": "e66b7ed27bda4157b90315abb74c541b",
    "deepnote_cell_type": "code"
   },
   "outputs": [],
   "source": [
    "# KMEANS FINAL VERSION\n",
    "import time\n",
    "class Mini_KMeans_mod:\n",
    "    def __init__(self, n_clusters=4, threshold=1e-3, max_iter=10000, batch_size=10):\n",
    "        super(Mini_KMeans_mod, self).__init__()\n",
    "        self.n_clusters = n_clusters\n",
    "        self.max_iter = max_iter\n",
    "        self.batch_size = batch_size\n",
    "        self.threshold = threshold\n",
    "    def fit(self, X_train, rechunk=False, user_centroids=None, v_user=None, verbose=False, v_factor = 0.75):\n",
    "        if user_centroids is not None:\n",
    "            self.centroids = user_centroids\n",
    "        else:\n",
    "            start_time = time.time()\n",
    "            \n",
    "            init_indx = np.sort(np.random.choice(X_train.shape[0], size=self.n_clusters, replace=False))\n",
    "            self.centroids = X_train[init_indx,:].compute()\n",
    "            print(f\"done with init, time: {(time.time() - start_time):.{2}f} s\")\n",
    "\n",
    "        # Iterate, adjusting centroids until converged or until passed max_iter\n",
    "        iteration = 0\n",
    "        # collect the number of points per cluster in order to calculate the learning rate\n",
    "        if v_user is not None:\n",
    "            v = v_user\n",
    "        else:\n",
    "            v = np.zeros(self.n_clusters)\n",
    "        v = np.zeros(self.n_clusters) # collect the number of points per cluster in order to calculate the learning rate\n",
    "        max_v = v_factor * self.batch_size * self.max_iter  #to check if one center gets too many counts, k is the maximum fraction of all possible counts\n",
    "        trace_classes = np.zeros(X_train.shape[0])\n",
    "        if verbose: print(\"starting while cycle\")\n",
    "        inertia_diff = self.threshold + 1\n",
    "        times = []\n",
    "        inertias = []\n",
    "        while iteration < self.max_iter and inertia_diff > self.threshold:\n",
    "            start_time = time.time()\n",
    "            \n",
    "            # parallelize this section with dask\n",
    "            indx = np.sort(np.random.choice(X_train.shape[0], size=self.batch_size, replace=False))\n",
    "            # this part is necessary to optimize computation and don't have problems with further functions\n",
    "            # the condition is also on the chunksize because if we rechunk a small chunk with a bigger size the cluster dies\n",
    "\n",
    "            # choose between auto rechunk, a custom number of chunks or no rechunk\n",
    "            if rechunk == 'auto':\n",
    "                # this will raise a performaces warning since it doesn't do the rechunk immediatly\n",
    "                minibatch = X_train[indx,:].rechunk(chunks=\"auto\")\n",
    "                # print(minibatch.chunksize)\n",
    "                \n",
    "            elif rechunk != False:\n",
    "                minibatch = X_train[indx,:].rechunk((rechunk, X_train.shape[1]))    #rechunk here is number of rows\n",
    "\n",
    "            else:\n",
    "                minibatch = X_train[indx,:]\n",
    "            \n",
    "            # Compute dot products and norms\n",
    "            dot_products = da.dot(minibatch, self.centroids.T)\n",
    "            minibatch_norms = da.linalg.norm(minibatch, axis=1)\n",
    "            centroid_norms = da.linalg.norm(self.centroids, axis=1)\n",
    "            \n",
    "            # Compute cosine similarities\n",
    "            dists = dot_products / (minibatch_norms[:, None] * centroid_norms)\n",
    "            \n",
    "            # Find the index of the nearest centroid\n",
    "            centroid_idx = da.argmax(dists, axis=1)\n",
    "            \n",
    "            # Compute inertia\n",
    "            inertia = da.choose(centroid_idx, dot_products.T).sum()\n",
    "            \n",
    "            # end of parallelized section\n",
    "            \n",
    "            # compute all togheter to save a lot of time and parallelize everything\n",
    "            # if the minibatch is small enough, save it in memory\n",
    "            mini_size = 5000\n",
    "            \n",
    "            if self.batch_size <= mini_size:\n",
    "                centroid_idx, inertia, minibatch_t = compute(centroid_idx, inertia, minibatch)\n",
    "            else:\n",
    "                centroid_idx, inertia, minibatch_t = compute(centroid_idx, inertia, minibatch[:mini_size,:])\n",
    "            # centroid_idx, inertia, minibatch_t = compute(centroid_idx, inertia, minibatch)\n",
    "\n",
    "            inertias.append(inertia)\n",
    "\n",
    "            client.cancel(dists)\n",
    "            del dists\n",
    "\n",
    "            if iteration > 0: inertia_diff = np.abs(inertias[iteration-1] - inertia)\n",
    "            \n",
    "            i = 0\n",
    "            if verbose: print(\"starting for cycle\")\n",
    "\n",
    "            for i in range(self.batch_size):\n",
    "                if v[centroid_idx[i]] >= max_v:\n",
    "                    pass\n",
    "                else:\n",
    "                    if (self.batch_size > mini_size) and (i % mini_size == 0) and (i > 0):\n",
    "                        client.cancel(minibatch_t)\n",
    "                        del minibatch_t\n",
    "                        if (self.batch_size - i) < mini_size:\n",
    "                            minibatch_t = minibatch[i:,:].compute()\n",
    "                            print(f\"Compute progress: {i // mini_size + 1}/{self.batch_size//mini_size}\"+\" \"*50, end=\"\\r\", flush=True)\n",
    "                        else:\n",
    "                            minibatch_t = minibatch[i:i+mini_size,:].compute()\n",
    "                            print(f\"Compute progress: {i // mini_size + 1}/{self.batch_size//mini_size}\"+\" \"*50, end=\"\\r\", flush=True)\n",
    "                    v[centroid_idx[i]] += 1\n",
    "                    lr = 1/(v[centroid_idx[i]])\n",
    "                    self.centroids[centroid_idx[i]] = (1 - lr)*self.centroids[centroid_idx[i]] + lr*minibatch_t[i%mini_size]\n",
    "                    trace_classes[indx[i]] = int(centroid_idx[i])\n",
    "\n",
    "            # free workers memory\n",
    "            client.cancel(minibatch_t)\n",
    "            del minibatch_t\n",
    "\n",
    "            t = time.time() - start_time\n",
    "            times.append(t)\n",
    "\n",
    "            print(f\"This iteration took {t:.{2}f} s\")\n",
    "            \n",
    "            iteration += 1\n",
    "            if iteration%1 == 0:\n",
    "                print(f\"Progress: {iteration}/{self.max_iter}, inertia: {inertia:.{3}f}\"+\" \"*50)#, end=\"\\r\", flush=True)\n",
    "\n",
    "             # save centroids every iteration\n",
    "            ftype = \"centr_temp\"\n",
    "            np.savez(\"results/{}\".format(ftype), class_centers=self.centroids, v=v)\n",
    "            client.cancel(inertia)\n",
    "            client.cancel(centroid_idx)\n",
    "            del inertia, centroid_idx    \n",
    "        print(f\"The process required {iteration} iterations.\"+\" \"*50)\n",
    "        print(f\"average while cycle computation time: {np.mean(times):.{2}f} s\")\n",
    "        print(f\"final inertia: {inertias[-1]:.{3}f}\")\n",
    "        return self.centroids, trace_classes, inertias, times\n",
    "    def predict(self, X, class_centers, plot = False, true_lab = true_lab):\n",
    "    \n",
    "        starting_time = timer()\n",
    "    \n",
    "        dists_list = []\n",
    "        for i in range(len(class_centers)):\n",
    "            dists_list.append(da.sum((X - class_centers[i]) ** 2, axis=1).rechunk(-1))\n",
    "            \n",
    "        dists = da.asarray(dists_list).rechunk((X.shape[0],-1))\n",
    "        centroid_idx = da.argmin(dists, axis=0)\n",
    "        inertia = (da.sqrt(dists.ravel()[centroid_idx + da.arange(0, X.shape[0]*self.n_clusters, self.n_clusters)])).sum()\n",
    "        \n",
    "        # similarity \n",
    "        sim_list = []\n",
    "        for i in range(len(class_centers)):\n",
    "            sim_list.append(da.dot(X, class_centers[i]).rechunk(-1)/(da.linalg.norm(X, axis=1)*da.linalg.norm(class_centers[i])))\n",
    "\n",
    "        sims = da.asarray(sim_list).rechunk((X.shape[0],-1))\n",
    "        centroid_idx_sim = da.argmax(sims, axis=0)\n",
    "        inertia_s = (da.sqrt(sims.ravel()[centroid_idx_sim + da.arange(0, X.shape[0]*self.n_clusters, self.n_clusters)])).sum()\n",
    "        inertia_s_p = (da.sqrt(sims.ravel()[centroid_idx + da.arange(0, X.shape[0]*self.n_clusters, self.n_clusters)])).sum()\n",
    "\n",
    "\n",
    "        centroid_idx, inertia, centroid_idx_sim, inertia_s, inertia_s_p = compute(centroid_idx, inertia, centroid_idx_sim, inertia_s, inertia_s_p)\n",
    "        \n",
    "        ending_time = timer()\n",
    "\n",
    "        if (plot):\n",
    "            import matplotlib.cm as cm\n",
    "            import matplotlib.pyplot as plt\n",
    "            from sklearn.metrics import silhouette_samples, silhouette_score\n",
    "            \n",
    "            indx = np.random.choice(X.shape[0], size=5000, replace=False)\n",
    "            minibatch = X[indx,:]\n",
    "            silhouette_avg=silhouette_score(minibatch,true_lab[indx])\n",
    "            print(f\"The silhouette average is {silhouette_avg}.\")\n",
    "            sample_silhouette_values = silhouette_samples(minibatch, true_lab[indx])\n",
    "            \n",
    "            fig, ax1 = plt.subplots()\n",
    "            fig.set_size_inches(12, 5)\n",
    "            ax1.set_xlim([-0.035, 0.035])\n",
    "            ax1.set_ylim([0, len(minibatch) + (4 + 1) * 20])\n",
    "            y_lower = 10\n",
    "            for i in range(4):\n",
    "                ith_cluster_silhouette_values = sample_silhouette_values[true_lab[indx] == i]\n",
    "                ith_cluster_silhouette_values.sort()\n",
    "                size_cluster_i = ith_cluster_silhouette_values.shape[0]\n",
    "                y_upper = y_lower + size_cluster_i\n",
    "                color = cm.nipy_spectral(float(i) / 4)\n",
    "                ax1.fill_betweenx(\n",
    "                    np.arange(y_lower, y_upper),\n",
    "                    0,\n",
    "                    ith_cluster_silhouette_values,\n",
    "                    facecolor=color,\n",
    "                    edgecolor=color,\n",
    "                    alpha=0.7,\n",
    "                )\n",
    "            \n",
    "                ax1.text(-0.03, y_lower + 0.5 * size_cluster_i, str(i))\n",
    "                y_lower = y_upper + 10  \n",
    "                ax1.set_title(\"The silhouette plot for the various clusters.\")\n",
    "                ax1.set_xlabel(\"The silhouette coefficient values\")\n",
    "                ax1.set_ylabel(\"Cluster label\")\n",
    "                ax1.axvline(x=silhouette_avg, color=\"red\", linestyle=\"--\")   # average\n",
    "                ax1.set_yticks([])  \n",
    "                ax1.set_xticks([-0.035,-0.025,-0.015,-0.005, 0,0.005,0.015,0.025,0.035])\n",
    "            ax1.text(silhouette_avg +0.0002, 900, \"Average\",color=\"red\",rotation=270)\n",
    "            plt.show()\n",
    "        \n",
    "        return centroid_idx, inertia, centroid_idx_sim, inertia_s, inertia_s_p, ending_time - starting_time"
   ]
  },
  {
   "cell_type": "markdown",
   "metadata": {
    "cell_id": "41d83266df5842ea8704e2b04959c4a9",
    "deepnote_cell_type": "markdown"
   },
   "source": [
    "To assess whether cosine similarity converges faster than the Euclidean distance, we conducted training using only approximately 50k points. This corresponds to 50 iterations with a batch size of 1000 points, which is roughly one-third of the number of points used with the Euclidean distance to achieve similar results."
   ]
  },
  {
   "cell_type": "code",
   "execution_count": 42,
   "metadata": {
    "cell_id": "1317fa6f2da94892ae3f10e97e17dce0",
    "deepnote_cell_type": "code"
   },
   "outputs": [
    {
     "name": "stdout",
     "output_type": "stream",
     "text": [
      "done with init, time: 1.84 s\n",
      "This iteration took 11.24 s\n",
      "Progress: 1/50, inertia: 58.243                                                  \n",
      "This iteration took 8.82 s\n",
      "Progress: 2/50, inertia: 27.024                                                  \n",
      "This iteration took 11.27 s\n",
      "Progress: 3/50, inertia: 28.841                                                  \n",
      "This iteration took 9.26 s\n",
      "Progress: 4/50, inertia: 30.180                                                  \n",
      "This iteration took 11.71 s\n",
      "Progress: 5/50, inertia: 30.382                                                  \n",
      "This iteration took 8.86 s\n",
      "Progress: 6/50, inertia: 31.488                                                  \n",
      "This iteration took 8.15 s\n",
      "Progress: 7/50, inertia: 31.220                                                  \n",
      "This iteration took 11.76 s\n",
      "Progress: 8/50, inertia: 31.696                                                  \n",
      "This iteration took 9.02 s\n",
      "Progress: 9/50, inertia: 30.976                                                  \n",
      "This iteration took 10.85 s\n",
      "Progress: 10/50, inertia: 32.237                                                  \n",
      "This iteration took 11.02 s\n",
      "Progress: 11/50, inertia: 32.463                                                  \n",
      "This iteration took 12.62 s\n",
      "Progress: 12/50, inertia: 31.615                                                  \n",
      "This iteration took 8.96 s\n",
      "Progress: 13/50, inertia: 31.463                                                  \n",
      "This iteration took 8.88 s\n",
      "Progress: 14/50, inertia: 31.351                                                  \n",
      "This iteration took 9.31 s\n",
      "Progress: 15/50, inertia: 32.537                                                  \n",
      "This iteration took 9.23 s\n",
      "Progress: 16/50, inertia: 32.146                                                  \n",
      "This iteration took 11.97 s\n",
      "Progress: 17/50, inertia: 31.354                                                  \n",
      "This iteration took 11.48 s\n",
      "Progress: 18/50, inertia: 32.517                                                  \n",
      "This iteration took 9.26 s\n",
      "Progress: 19/50, inertia: 31.673                                                  \n",
      "This iteration took 8.89 s\n",
      "Progress: 20/50, inertia: 31.960                                                  \n",
      "This iteration took 9.07 s\n",
      "Progress: 21/50, inertia: 33.836                                                  \n",
      "This iteration took 8.58 s\n",
      "Progress: 22/50, inertia: 33.087                                                  \n",
      "This iteration took 11.80 s\n",
      "Progress: 23/50, inertia: 32.290                                                  \n",
      "This iteration took 8.89 s\n",
      "Progress: 24/50, inertia: 33.261                                                  \n",
      "This iteration took 9.31 s\n",
      "Progress: 25/50, inertia: 32.337                                                  \n",
      "This iteration took 8.22 s\n",
      "Progress: 26/50, inertia: 32.496                                                  \n",
      "This iteration took 11.74 s\n",
      "Progress: 27/50, inertia: 33.936                                                  \n",
      "This iteration took 8.80 s\n",
      "Progress: 28/50, inertia: 32.424                                                  \n",
      "This iteration took 11.31 s\n",
      "Progress: 29/50, inertia: 34.392                                                  \n",
      "This iteration took 8.73 s\n",
      "Progress: 30/50, inertia: 32.736                                                  \n",
      "This iteration took 9.11 s\n",
      "Progress: 31/50, inertia: 31.718                                                  \n",
      "This iteration took 8.71 s\n",
      "Progress: 32/50, inertia: 33.973                                                  \n",
      "This iteration took 9.07 s\n",
      "Progress: 33/50, inertia: 33.313                                                  \n",
      "This iteration took 8.94 s\n",
      "Progress: 34/50, inertia: 32.964                                                  \n",
      "This iteration took 8.52 s\n",
      "Progress: 35/50, inertia: 32.306                                                  \n",
      "This iteration took 9.26 s\n",
      "Progress: 36/50, inertia: 33.018                                                  \n",
      "This iteration took 9.06 s\n",
      "Progress: 37/50, inertia: 32.954                                                  \n",
      "This iteration took 11.52 s\n",
      "Progress: 38/50, inertia: 33.168                                                  \n",
      "This iteration took 9.37 s\n",
      "Progress: 39/50, inertia: 32.448                                                  \n",
      "This iteration took 12.11 s\n",
      "Progress: 40/50, inertia: 33.105                                                  \n",
      "This iteration took 8.44 s\n",
      "Progress: 41/50, inertia: 33.395                                                  \n",
      "This iteration took 12.25 s\n",
      "Progress: 42/50, inertia: 32.729                                                  \n",
      "This iteration took 8.71 s\n",
      "Progress: 43/50, inertia: 34.122                                                  \n",
      "This iteration took 8.94 s\n",
      "Progress: 44/50, inertia: 32.524                                                  \n",
      "This iteration took 8.48 s\n",
      "Progress: 45/50, inertia: 33.880                                                  \n",
      "This iteration took 11.92 s\n",
      "Progress: 46/50, inertia: 32.952                                                  \n",
      "This iteration took 8.78 s\n",
      "Progress: 47/50, inertia: 32.920                                                  \n",
      "This iteration took 9.06 s\n",
      "Progress: 48/50, inertia: 33.459                                                  \n",
      "This iteration took 8.55 s\n",
      "Progress: 49/50, inertia: 33.251                                                  \n",
      "This iteration took 9.16 s\n",
      "Progress: 50/50, inertia: 33.143                                                  \n",
      "The process required 50 iterations.                                                  \n",
      "average while cycle computation time: 9.78 s\n",
      "final inertia: 33.143\n",
      "CPU times: user 50.6 s, sys: 30.5 s, total: 1min 21s\n",
      "Wall time: 8min 13s\n"
     ]
    }
   ],
   "source": [
    "%%time\n",
    "seed = 18092023 #144\n",
    "np.random.seed(seed)\n",
    "da.random.seed(seed)\n",
    "# Fit centroids to dataset and save dashboard report\n",
    "with performance_report(filename=\"results/toy_newdist.html\"): \n",
    "    kmeans2 = Mini_KMeans_mod(n_clusters=4, threshold=1e-5, max_iter=50, batch_size=1000) # 700 total\n",
    "    class_centers, classes, inertias, fit_time = kmeans2.fit(X_dense, rechunk=\"auto\", user_centroids=None) # fit time is in seconds"
   ]
  },
  {
   "cell_type": "code",
   "execution_count": 43,
   "metadata": {
    "cell_id": "9e3b84e929cb43319b04b8fca7232796",
    "deepnote_cell_type": "code"
   },
   "outputs": [
    {
     "name": "stdout",
     "output_type": "stream",
     "text": [
      "CPU times: user 6.64 s, sys: 514 ms, total: 7.15 s\n",
      "Wall time: 2min 4s\n"
     ]
    }
   ],
   "source": [
    "%%time\n",
    "labels, final_inertia, labels_sim, inertia_sim, inertia_sim_p, pred_time = kmeans2.predict(X_dense, class_centers)"
   ]
  },
  {
   "cell_type": "markdown",
   "metadata": {},
   "source": [
    "In the next cell some correlations using `adjusted_rand_score` are provided. In the above predict two sets of labels are returned: the first one obtained through euclidean distance and the other through cosine similarity. The difference with all the previous trials lays in the fit method: only here cosine similarity is used to obtain class centers. "
   ]
  },
  {
   "cell_type": "code",
   "execution_count": 44,
   "metadata": {
    "cell_id": "6b942ec681244bbaa3e2ff2eb99b0fb3",
    "deepnote_cell_type": "code"
   },
   "outputs": [
    {
     "name": "stdout",
     "output_type": "stream",
     "text": [
      "the correlation between true labels and predicted labels, using euclidean distance, is of 46.2%\n",
      "the correlation between true labels and predicted labels, using cosine similarity, is of 45.84%\n",
      "the correlation between the two predicted labels is of 90.14%\n",
      "0.3201768390670441\n",
      "0.32017891207322957\n"
     ]
    },
    {
     "data": {
      "text/plain": [
       "0.9970808851197472"
      ]
     },
     "execution_count": 44,
     "metadata": {},
     "output_type": "execute_result"
    }
   ],
   "source": [
    "print(f\"the correlation between true labels and predicted labels, using euclidean distance, is of {np.around(adjusted_rand_score(true_lab, labels)*100,2)}%\")\n",
    "print(f\"the correlation between true labels and predicted labels, using cosine similarity, is of {np.around(adjusted_rand_score(true_lab, labels_sim)*100,2)}%\")\n",
    "print(f\"the correlation between the two predicted labels is of {np.around(adjusted_rand_score(labels, labels_sim)*100,2)}%\")\n",
    "print(inertia_sim_p/len(labels))\n",
    "print(inertia_sim/len(labels))\n",
    "final_inertia/len(labels)"
   ]
  },
  {
   "cell_type": "markdown",
   "metadata": {
    "cell_id": "4f5f42c7f6654be99b06075bd5ebdffe",
    "deepnote_cell_type": "markdown"
   },
   "source": [
    "The results indicate that each individual iteration takes roughly the same amount of time as it does with the Euclidean distance. However, among the overall trials we explored, it's noteworthy that the cosine similarity-based approach achieves equivalent adjusted scores and inertia values (compared to the Euclidean distance) in fewer iterations. This suggests that using cosine similarity could be a promising technique to enhance the algorithm further. Additionally, the fact that the labels generated using this new distance metric align with those predicted using the Euclidean distance is a positive sign of its effectiveness."
   ]
  }
 ],
 "metadata": {
  "deepnote": {},
  "deepnote_execution_queue": [],
  "deepnote_notebook_id": "d667b9b0d24342b5a8395a484ec57e01",
  "kernelspec": {
   "display_name": "Python 3 (ipykernel)",
   "language": "python",
   "name": "python3"
  },
  "language_info": {
   "codemirror_mode": {
    "name": "ipython",
    "version": 3
   },
   "file_extension": ".py",
   "mimetype": "text/x-python",
   "name": "python",
   "nbconvert_exporter": "python",
   "pygments_lexer": "ipython3",
   "version": "3.9.7"
  }
 },
 "nbformat": 4,
 "nbformat_minor": 4
}
