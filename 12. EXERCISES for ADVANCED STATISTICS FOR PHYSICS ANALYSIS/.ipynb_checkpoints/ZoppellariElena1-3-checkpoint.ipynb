{
 "cells": [
  {
   "cell_type": "code",
   "execution_count": 1,
   "id": "e358c26b",
   "metadata": {
    "cell_id": "15b707f3-5a48-4cff-a114-9e8665ab58bf",
    "deepnote_cell_height": 627.375,
    "deepnote_cell_type": "code",
    "owner_user_id": "f8849fa9-02d0-45d0-8212-5e933c7a4ca0"
   },
   "outputs": [
    {
     "name": "stderr",
     "output_type": "stream",
     "text": [
      "Warning message:\n",
      "\"package 'tidyverse' was built under R version 3.6.3\"-- Attaching packages --------------------------------------- tidyverse 1.3.1 --\n",
      "v ggplot2 3.3.6     v purrr   0.3.4\n",
      "v tibble  3.1.1     v dplyr   1.0.6\n",
      "v tidyr   1.1.3     v stringr 1.4.0\n",
      "v readr   1.4.0     v forcats 0.5.1\n",
      "Warning message:\n",
      "\"package 'tibble' was built under R version 3.6.3\"Warning message:\n",
      "\"package 'tidyr' was built under R version 3.6.3\"Warning message:\n",
      "\"package 'readr' was built under R version 3.6.3\"Warning message:\n",
      "\"package 'purrr' was built under R version 3.6.3\"Warning message:\n",
      "\"package 'dplyr' was built under R version 3.6.3\"Warning message:\n",
      "\"package 'forcats' was built under R version 3.6.3\"-- Conflicts ------------------------------------------ tidyverse_conflicts() --\n",
      "x dplyr::filter() masks stats::filter()\n",
      "x dplyr::lag()    masks stats::lag()\n"
     ]
    },
    {
     "ename": "ERROR",
     "evalue": "Error in library(hash): there is no package called 'hash'\n",
     "output_type": "error",
     "traceback": [
      "Error in library(hash): there is no package called 'hash'\nTraceback:\n",
      "1. library(hash)"
     ]
    }
   ],
   "source": [
    "library(tidyverse)\n",
    "library(hash) #to be able to create a dictionary\n",
    "library(plotly)\n",
    "library(magick)"
   ]
  },
  {
   "cell_type": "code",
   "execution_count": null,
   "id": "f0bc7ef2",
   "metadata": {},
   "outputs": [],
   "source": [
    "install.packages(\"tidyverse\")"
   ]
  },
  {
   "cell_type": "markdown",
   "id": "4d6f2aa3",
   "metadata": {
    "cell_id": "00001-b8661c06-c02d-4c90-b34c-8ac7562396cd",
    "deepnote_cell_height": 70,
    "deepnote_cell_type": "markdown"
   },
   "source": [
    "## Exercise 1 - vector and dataframes"
   ]
  },
  {
   "cell_type": "code",
   "execution_count": null,
   "id": "dee78cac",
   "metadata": {
    "cell_id": "00002-aa944527-a6c9-4890-a7fe-eef21f528e13",
    "deepnote_cell_height": 1338.125,
    "deepnote_cell_type": "code",
    "deepnote_output_heights": [
     480,
     null,
     161
    ]
   },
   "outputs": [],
   "source": [
    "Loch <- c(\"Loch Ness\", \"Loch Lomond\", \"Loch Morar\", \"Loch Tay\", \"Loch Awe\", \"Loch Maree\", \"Loch Ericht\", \"Loch Lochy\", \"Loch Rannoch\", \"Loch Shiel\", \"Loch Katrine\", \"Loch Arkaig\", \"Loch Shin\")\n",
    "volume <- c(7.45, 2.6, 2.3, 1.6, 1.2, 1.09, 1.08, 1.07, 0.97, 0.79, 0.77, 0.75, 0.35)\n",
    "Area <- c(56, 71, 27, 26.4, 39, 28.6, 18.6, 16,19, 19.5, 12.4, 16, 22.5)\n",
    "Length <- c( 39,36, 18.8, 23, 41, 20, 23, 16, 15.7, 28, 12.9, 19.3, 27.8)\n",
    "Max_depth <- c(230, 190, 310, 150, 94, 114, 156, 162, 134, 128, 151, 109, 49)\n",
    "Mean_depth <- c(132, 37, 87,60.6, 32, 38, 57.6, 70, 51, 40, 43.4, 46.5, 15.5)\n",
    "scottish.lakes <- data.frame(Loch,volume,Area,Length, Max_depth,Mean_depth )\n",
    "scottish.lakes\n",
    "\n",
    "#Request one: find the max volume and area of a scottish lake\n",
    "cat(\"The max volume of a lake is: \",max(scottish.lakes[,2])) \n",
    "cat(\"\\nThe max area of a lake is: \",max(scottish.lakes[,3]))\n",
    "\n",
    "#Request two: order the frame with respect to the area and determine the two largest area lakes\n",
    "scot_ord<-scottish.lakes[order(scottish.lakes$Area, decreasing=TRUE),]\n",
    "cat(\"\\nThe two largest lakes are: \")\n",
    "head(scot_ord, n=2)\n",
    "\n",
    "#Request three: by summing up the areas occupied by the lakes, determine the area of Scotland covered by water\n",
    "result<-sum(scottish.lakes[,3])\n",
    "cat(\"\\nThe area of Scotland occupied by the lakes is: \",result)\n",
    "perc<-(result/77910)*100\n",
    "cat(\"\\nSo the percentual of Scotland covered with lakes is: \",perc,'%')"
   ]
  },
  {
   "cell_type": "markdown",
   "id": "a41749c4",
   "metadata": {
    "cell_id": "00003-6c85b4db-9f32-41df-a32c-d01cf35e09a7",
    "deepnote_cell_height": 70,
    "deepnote_cell_type": "markdown"
   },
   "source": [
    "## Exercise 2 - Crude Oil Production"
   ]
  },
  {
   "cell_type": "code",
   "execution_count": null,
   "id": "dfe67800",
   "metadata": {
    "cell_id": "00004-95162072-edbe-44a7-baaa-9d5dd42ff48f",
    "deepnote_cell_height": 3490.5625,
    "deepnote_cell_type": "code",
    "deepnote_output_heights": [
     21.1875,
     611,
     null,
     611,
     611,
     611
    ]
   },
   "outputs": [],
   "source": [
    "#1) Write R code that is able to read the file and import it in a data frame structure\n",
    "oil.prices <- read.csv(\"crude-oil-prices.csv\")\n",
    "oil.prices<-oil.prices[,-1]\n",
    "oil.prices<-oil.prices[,-1]\n",
    "names(oil.prices)[2]<-'Prices'\n",
    "class(oil.prices)\n",
    "\n",
    "#2) 2 produce a plot with the Oil price as a function of the year\n",
    "plot(oil.prices$Year,oil.prices$Prices, pch = 20,col = \" navy \", cex =1,main='Variation of prices in years 1860-2020', xlab='Year',ylab='Price/baril ($)',col.lab = 4,xaxt = \"n\",tck = 0.01)\n",
    "lines (oil.prices$Year,oil.prices$Prices, col = \"navy\", lty =3)\n",
    "axis(1, at = seq(1860,2020,20))\n",
    "grid()\n",
    "\n",
    "modern_times<-which(oil.prices==1970,arr.ind=TRUE)\n",
    "plot(oil.prices$Year[modern_times[1]:160],oil.prices$Prices[modern_times[1]:160],main='Variation of prices in years 1970-2020', pch = 20,col = \" navy \", cex =1, xlab='Year',ylab='Price/baril ($)',col.lab = 4,xaxt = \"n\",tck = 0.01)\n",
    "lines (oil.prices$Year[modern_times[1]:160],oil.prices$Prices[modern_times[1]:160], col = \"firebrick 1\", lty =3)\n",
    "axis(1, at = seq(1970,2020,10))\n",
    "grid(NULL, col = \"lightgray\", lty = \"dotted\",\n",
    "     lwd = par(\"lwd\"), equilogs = TRUE)\n",
    "\n",
    "#3) which is the highest price in history ? When did it occur ?\n",
    "max.price=max(oil.prices[,2])\n",
    "cat(\"The highest price in history is: \",max.price,\"$\") \n",
    "max.coord<-which(oil.prices==max.price,arr.ind=TRUE)\n",
    "cat(\"\\nIt occurred in: \",oil.prices[max.coord[1],1]) \n",
    "\n",
    "#4) plot the derivative of the curve, simply evaluated with the finite difference formula\n",
    "prices<-oil.prices$Prices\n",
    "der=numeric(160)\n",
    "for (i in 1:160){\n",
    "    der[i]=prices[i+1]-prices[i]\n",
    "    }\n",
    "\n",
    "plot(oil.prices$Year,der, pch = 20,col = \"orange \", cex =1,main='Derivative of prices in years 1860-2020', xlab='Year',ylab='Price/year ($/year)',col.lab = 4,xaxt = \"n\",tck = 0.01)\n",
    "lines (oil.prices$Year,der, col = \"firebrick 1\", lty =3)\n",
    "axis(1, at = seq(1860,2020,20))\n",
    "grid()\n",
    "\n",
    "plot(oil.prices$Year[modern_times[1]:160],der[modern_times[1]:160], pch = 20,col = \"orange \", cex =1,main='Derivative of prices in years 1970-2020', xlab='Year',ylab='Price/year ($/year)',col.lab = 4,xaxt = \"n\",tck = 0.01)\n",
    "lines (oil.prices$Year[modern_times[1]:160],der[modern_times[1]:160], col = \"firebrick 1\", lty =3)\n",
    "axis(1, at = seq(1970,2020,10))\n",
    "grid()"
   ]
  },
  {
   "cell_type": "markdown",
   "id": "017f4a26",
   "metadata": {
    "cell_id": "00005-2c4ff830-1edd-4a09-bd70-210e2c67fa67",
    "deepnote_cell_height": 70,
    "deepnote_cell_type": "markdown"
   },
   "source": [
    "## Exercise 3 - World Coal Production"
   ]
  },
  {
   "cell_type": "code",
   "execution_count": null,
   "id": "26a6fec2",
   "metadata": {
    "cell_id": "00006-3e78fc00-ca58-4600-b8bc-0cabff075019",
    "deepnote_cell_height": 16484.375,
    "deepnote_cell_type": "code",
    "deepnote_output_heights": [
     21.1875,
     null,
     611,
     611,
     611,
     611,
     611,
     611,
     611,
     611,
     611,
     611,
     611,
     611,
     611,
     611,
     611,
     611,
     611,
     611,
     611,
     611,
     611,
     611,
     611,
     611,
     611
    ]
   },
   "outputs": [],
   "source": [
    "#1) Write R code that is able to read the file and import it in a tibble [4] structure\n",
    "old.coal.production <- as_tibble(read.csv(\"coal-production-by-country.csv\"))\n",
    "names(old.coal.production)[4]<-'Coal_prod'\n",
    "class(old.coal.production)\n",
    "\n",
    "#2) Count the number of countries available in the file and produce a barplot with the number of entries for each country\n",
    "coord<-which(old.coal.production==\"\",arr.ind=TRUE)\n",
    "coal.production<-old.coal.production[-coord[,1],]\n",
    "coord1<-which(coal.production==\"OWID_WRL\",arr.ind=TRUE)\n",
    "coal.production<-coal.production[-coord1[,1],]\n",
    "counts<-table(coal.production$Code)\n",
    "cat('The number of countries in the file are: ',dim(counts))\n",
    "#I plot 25 different barplot because with just one barplot the result are not clear\n",
    "for (i in 1:25){\n",
    "    barplot(counts[(((i-1)*7)+1):(i*7)], main=\"Number of entries for each country\", xlab=\"Country\", col=\"firebrick\")\n",
    "}"
   ]
  },
  {
   "cell_type": "code",
   "execution_count": null,
   "id": "9e45d646",
   "metadata": {
    "cell_id": "00007-f45c866f-a84b-4bbc-aeb9-7de744f70f91",
    "deepnote_cell_height": 424.375,
    "deepnote_cell_type": "code",
    "deepnote_output_heights": [
     null,
     29.1875
    ]
   },
   "outputs": [],
   "source": [
    "#3) selecting only the year after 1970, determine the total integrated production for each country and print the top 5 Countries with highest coal productions\n",
    "new.coal.production<-coal.production[coal.production$Year>=1970,]\n",
    "new.coal.production<-new.coal.production[order(new.coal.production$Code),]\n",
    "new.counts<-table(new.coal.production$Code)\n",
    "num_i=1 #Initial number that I will use to slice the dataframe, in order to create one dataframe for each country\n",
    "collect<-hash() #dictionary\n",
    "for (i in 1:dim(new.counts)){\n",
    "    num_f=new.counts[i]+num_i-1 #Final number for the dataframe slicing\n",
    "    country.coal.prod<-new.coal.production[num_i:num_f,] #creation of one dataframe for each country\n",
    "    sum<-sum(country.coal.prod$Coal_prod)\n",
    "    collect[[country.coal.prod$Code[1]]]<-sum\n",
    "    num_i=num_f+1\n",
    "}\n",
    "cat('The top 5 countries for coal production (TW · hour) after 1970 are:\\n')\n",
    "values(collect, keys=NULL)[order(values(collect, keys=NULL), decreasing=TRUE)][1:5]"
   ]
  },
  {
   "cell_type": "code",
   "execution_count": null,
   "id": "5f258ac0",
   "metadata": {},
   "outputs": [],
   "source": []
  },
  {
   "cell_type": "code",
   "execution_count": 6,
   "id": "81d5c09a",
   "metadata": {
    "cell_id": "00008-402b11a8-7158-44ea-998f-2aeb7906912f",
    "deepnote_cell_height": 535,
    "deepnote_cell_type": "code",
    "deepnote_output_heights": [
     402
    ]
   },
   "outputs": [
    {
     "ename": "ERROR",
     "evalue": "Error in magick_image_readpath(path, density, depth, strip, defines): Rterm.exe: UnableToOpenBlob `C:\\Users\\Elena Zoppellari\\top.png': No such file or directory @ error/blob.c/OpenBlob/2924\n",
     "output_type": "error",
     "traceback": [
      "Error in magick_image_readpath(path, density, depth, strip, defines): Rterm.exe: UnableToOpenBlob `C:\\Users\\Elena Zoppellari\\top.png': No such file or directory @ error/blob.c/OpenBlob/2924\nTraceback:\n",
      "1. image_read(\"top.png\")",
      "2. magick_image_readpath(path, density, depth, strip, defines)"
     ]
    }
   ],
   "source": [
    "top <- rbind(new.coal.production[new.coal.production$Code==\"CHN\",],new.coal.production[new.coal.production$Code==\"USA\",],new.coal.production[new.coal.production$Code==\"RUS\",],new.coal.production[new.coal.production$Code==\"AUS\",],new.coal.production[new.coal.production$Code==\"IND\",])\n",
    "top_fig<-plot_ly(data = top, x = top$Year, y = top$Coal_prod,type=\"scatter\", color = top$Entity, colors = \"Set1\", mode = 'lines+markers') %>% layout(title=\"Production of coals during years for top producers\", legend=list(title=list(text=\"Countries\"))) \n",
    "#image_read('top.png')\n",
    "#embed_notebook(top_fig)"
   ]
  },
  {
   "cell_type": "markdown",
   "id": "2c21a768",
   "metadata": {
    "cell_id": "00009-ed466af8-90da-4685-8722-dd989cae54a9",
    "deepnote_cell_height": 74.78125,
    "deepnote_cell_type": "markdown"
   },
   "source": [
    "It can be observed that China, since the start of its activity, has always been a top producer of coal but in the last 20 years it has significantly increased its activity."
   ]
  },
  {
   "cell_type": "code",
   "execution_count": 29,
   "id": "e248e796",
   "metadata": {
    "cell_id": "00010-c9d538c8-be09-4c36-9e92-876398afbcaf",
    "deepnote_cell_height": 571,
    "deepnote_cell_type": "code",
    "deepnote_output_heights": [
     402
    ]
   },
   "outputs": [
    {
     "data": {
      "image/png": "[encoded data removed]"
     },
     "metadata": {},
     "output_type": "display_data"
    },
    {
     "data": {
      "text/plain": [
       "\u001b[90m# A tibble: 1 x 7\u001b[39m\n",
       "  format width height colorspace matte filesize density\n",
       "  \u001b[3m\u001b[90m<chr>\u001b[39m\u001b[23m  \u001b[3m\u001b[90m<int>\u001b[39m\u001b[23m  \u001b[3m\u001b[90m<int>\u001b[39m\u001b[23m \u001b[3m\u001b[90m<chr>\u001b[39m\u001b[23m      \u001b[3m\u001b[90m<lgl>\u001b[39m\u001b[23m    \u001b[3m\u001b[90m<int>\u001b[39m\u001b[23m \u001b[3m\u001b[90m<chr>\u001b[39m\u001b[23m  \n",
       "\u001b[90m1\u001b[39m PNG      979    400 sRGB       TRUE     \u001b[4m4\u001b[24m\u001b[4m5\u001b[24m066 72x72  "
      ]
     },
     "metadata": {},
     "output_type": "display_data"
    }
   ],
   "source": [
    "#5) generate a plot with the cumulative sum of the World’s coal production over the year\n",
    "world.c.p<-old.coal.production[old.coal.production$Code==\"OWID_WRL\",]\n",
    "\n",
    "world<-plot_ly(data = world.c.p, x = world.c.p$Year, y = world.c.p$Coal_prod,type=\"scatter\", colors = \"Set1\", mode = 'lines+markers') %>% layout(title=\"World's coal production over the years\", xaxis=list(title=\"Year\"), yaxis=list(title=\"Coal production (TWh)\")) \n",
    "image_read('world_coal.png')"
   ]
  }
 ],
 "metadata": {
  "deepnote": {},
  "deepnote_execution_queue": [],
  "deepnote_notebook_id": "847fee1a-d4fd-4d3e-9980-b4a252d9178a",
  "kernelspec": {
   "display_name": "R",
   "language": "R",
   "name": "ir"
  },
  "language_info": {
   "codemirror_mode": "r",
   "file_extension": ".r",
   "mimetype": "text/x-r-source",
   "name": "R",
   "pygments_lexer": "r",
   "version": "3.6.1"
  }
 },
 "nbformat": 4,
 "nbformat_minor": 5
}
